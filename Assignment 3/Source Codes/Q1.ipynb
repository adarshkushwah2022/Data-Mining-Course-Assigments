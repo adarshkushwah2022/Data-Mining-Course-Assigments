{
  "nbformat": 4,
  "nbformat_minor": 0,
  "metadata": {
    "colab": {
      "name": "DMG ASSIGNMENT 3 Q1 FINAL.ipynb",
      "provenance": [],
      "collapsed_sections": []
    },
    "kernelspec": {
      "name": "python3",
      "display_name": "Python 3"
    },
    "language_info": {
      "name": "python"
    }
  },
  "cells": [
    {
      "cell_type": "markdown",
      "metadata": {
        "id": "AXeQEzgmHGfN"
      },
      "source": [
        "**Q1(40 points) Using any library, Perform any three clustering modelling and one Gaussian based clustering modelling and report the following for each model.                                                                         1.Centroid/representative object/prototype of each cluster for every model.                                                                         2.Visualization of the clusters.(You can use lesser data points/ dimensions for visualizations).                                                               3.Compare your cluster distribution with the true label count.                 4.Compare the cluster formation of the gaussian based method with the other three clustering methods and report your observations on the results.**"
      ]
    },
    {
      "cell_type": "markdown",
      "metadata": {
        "id": "ZHCgvP_1IKbo"
      },
      "source": [
        "**Importing Pre-Requisite Libraries, Checking dataset size, Dropping duplicate rows**"
      ]
    },
    {
      "cell_type": "code",
      "metadata": {
        "colab": {
          "base_uri": "https://localhost:8080/"
        },
        "id": "iIZZ7npCvfBj",
        "outputId": "57ec2b4f-fce2-41f9-bcab-e1aaf0957aa9"
      },
      "source": [
        "#Downloading Pre-requisite library\n",
        "!pip install fuzzy-c-means"
      ],
      "execution_count": 127,
      "outputs": [
        {
          "output_type": "stream",
          "name": "stdout",
          "text": [
            "Requirement already satisfied: fuzzy-c-means in /usr/local/lib/python3.7/dist-packages (1.6.3)\n",
            "Requirement already satisfied: typer<0.4.0,>=0.3.2 in /usr/local/lib/python3.7/dist-packages (from fuzzy-c-means) (0.3.2)\n",
            "Requirement already satisfied: tabulate<0.9.0,>=0.8.9 in /usr/local/lib/python3.7/dist-packages (from fuzzy-c-means) (0.8.9)\n",
            "Requirement already satisfied: pydantic<2.0.0,>=1.8.2 in /usr/local/lib/python3.7/dist-packages (from fuzzy-c-means) (1.8.2)\n",
            "Requirement already satisfied: numpy<2.0.0,>=1.21.1 in /usr/local/lib/python3.7/dist-packages (from fuzzy-c-means) (1.21.4)\n",
            "Requirement already satisfied: typing-extensions>=3.7.4.3 in /usr/local/lib/python3.7/dist-packages (from pydantic<2.0.0,>=1.8.2->fuzzy-c-means) (3.10.0.2)\n",
            "Requirement already satisfied: click<7.2.0,>=7.1.1 in /usr/local/lib/python3.7/dist-packages (from typer<0.4.0,>=0.3.2->fuzzy-c-means) (7.1.2)\n"
          ]
        }
      ]
    },
    {
      "cell_type": "code",
      "metadata": {
        "id": "odxxXG_PHE3F"
      },
      "source": [
        "#Import Pre-requisite libraries\n",
        "import warnings\n",
        "import numpy as np\n",
        "%matplotlib inline\n",
        "import pandas as pd\n",
        "from fcmeans import FCM\n",
        "from numpy import asarray\n",
        "import matplotlib.pyplot as plt\n",
        "warnings.filterwarnings(\"ignore\")\n",
        "from sklearn.cluster import KMeans\n",
        "from sklearn.metrics import f1_score\n",
        "from matplotlib import pyplot as plt\n",
        "from sklearn.metrics import accuracy_score\n",
        "from sklearn.mixture import GaussianMixture\n",
        "from sklearn.preprocessing import OrdinalEncoder\n",
        "from sklearn.cluster import AgglomerativeClustering\n",
        "from sklearn.model_selection import train_test_split\n",
        "from scipy.cluster.vq import whiten, kmeans, vq, kmeans2\n",
        "from sklearn.feature_selection import mutual_info_classif"
      ],
      "execution_count": 157,
      "outputs": []
    },
    {
      "cell_type": "code",
      "metadata": {
        "id": "7DoKHYbPhJ34"
      },
      "source": [
        "#ignoring warning messages if occur\n",
        "warnings.filterwarnings(\"ignore\")"
      ],
      "execution_count": 158,
      "outputs": []
    },
    {
      "cell_type": "code",
      "metadata": {
        "id": "H9KFuhaZheZ2"
      },
      "source": [
        "#importing dataset\n",
        "df=pd.read_csv('/content/drive/MyDrive/DMG ASSIGNMENT 3/covtype_train.csv')"
      ],
      "execution_count": 159,
      "outputs": []
    },
    {
      "cell_type": "code",
      "metadata": {
        "colab": {
          "base_uri": "https://localhost:8080/"
        },
        "id": "cI_nXeDvpbqu",
        "outputId": "112c247c-3bd5-44cf-93c4-7a34ba9edec9"
      },
      "source": [
        "#displaying number of rows and columns in dataset\n",
        "df.shape"
      ],
      "execution_count": 160,
      "outputs": [
        {
          "output_type": "execute_result",
          "data": {
            "text/plain": [
              "(406708, 11)"
            ]
          },
          "metadata": {},
          "execution_count": 160
        }
      ]
    },
    {
      "cell_type": "code",
      "metadata": {
        "colab": {
          "base_uri": "https://localhost:8080/"
        },
        "id": "wSf9Sp3w0URz",
        "outputId": "e57c9948-9343-45f7-daf5-8eaeffd71727"
      },
      "source": [
        "#Checking Duplicates\n",
        "df.duplicated().sum()"
      ],
      "execution_count": 161,
      "outputs": [
        {
          "output_type": "execute_result",
          "data": {
            "text/plain": [
              "394213"
            ]
          },
          "metadata": {},
          "execution_count": 161
        }
      ]
    },
    {
      "cell_type": "code",
      "metadata": {
        "id": "x4g7o6MT0j45"
      },
      "source": [
        "#dropping duplicates\n",
        "df.drop_duplicates(inplace=True)"
      ],
      "execution_count": 162,
      "outputs": []
    },
    {
      "cell_type": "code",
      "metadata": {
        "colab": {
          "base_uri": "https://localhost:8080/"
        },
        "id": "fpxy6DWl0wC4",
        "outputId": "b12432a1-6e13-44cd-d671-a7e3285cc964"
      },
      "source": [
        "#displaying number of rows and columns in dataset\n",
        "df.shape"
      ],
      "execution_count": 163,
      "outputs": [
        {
          "output_type": "execute_result",
          "data": {
            "text/plain": [
              "(12495, 11)"
            ]
          },
          "metadata": {},
          "execution_count": 163
        }
      ]
    },
    {
      "cell_type": "code",
      "metadata": {
        "colab": {
          "base_uri": "https://localhost:8080/",
          "height": 226
        },
        "id": "t7khylNNp0uT",
        "outputId": "e89dfa1d-3945-4850-e719-38efa916aaf0"
      },
      "source": [
        "#displaying top 5 rows of dataframe\n",
        "df.head()"
      ],
      "execution_count": 164,
      "outputs": [
        {
          "output_type": "execute_result",
          "data": {
            "text/html": [
              "<div>\n",
              "<style scoped>\n",
              "    .dataframe tbody tr th:only-of-type {\n",
              "        vertical-align: middle;\n",
              "    }\n",
              "\n",
              "    .dataframe tbody tr th {\n",
              "        vertical-align: top;\n",
              "    }\n",
              "\n",
              "    .dataframe thead th {\n",
              "        text-align: right;\n",
              "    }\n",
              "</style>\n",
              "<table border=\"1\" class=\"dataframe\">\n",
              "  <thead>\n",
              "    <tr style=\"text-align: right;\">\n",
              "      <th></th>\n",
              "      <th>Elevation</th>\n",
              "      <th>Aspect</th>\n",
              "      <th>Slope</th>\n",
              "      <th>Hillshade_9am</th>\n",
              "      <th>Hillshade_Noon</th>\n",
              "      <th>Horizontal_Distance_To_Hydrology</th>\n",
              "      <th>Vertical_Distance_To_Hydrology</th>\n",
              "      <th>Horizontal_Distance_To_Fire_Points</th>\n",
              "      <th>Soil_Type</th>\n",
              "      <th>Wilderness</th>\n",
              "      <th>target</th>\n",
              "    </tr>\n",
              "  </thead>\n",
              "  <tbody>\n",
              "    <tr>\n",
              "      <th>0</th>\n",
              "      <td>elevation_medium</td>\n",
              "      <td>aspect_medium</td>\n",
              "      <td>slope_low</td>\n",
              "      <td>hillshade_9am_max</td>\n",
              "      <td>hillnoon_max</td>\n",
              "      <td>0</td>\n",
              "      <td>1</td>\n",
              "      <td>low</td>\n",
              "      <td>22</td>\n",
              "      <td>0</td>\n",
              "      <td>2</td>\n",
              "    </tr>\n",
              "    <tr>\n",
              "      <th>1</th>\n",
              "      <td>elevation_high</td>\n",
              "      <td>aspect_medium</td>\n",
              "      <td>slope_low</td>\n",
              "      <td>hillshade_9am_max</td>\n",
              "      <td>hillnoon_max</td>\n",
              "      <td>1</td>\n",
              "      <td>1</td>\n",
              "      <td>mid</td>\n",
              "      <td>32</td>\n",
              "      <td>2</td>\n",
              "      <td>1</td>\n",
              "    </tr>\n",
              "    <tr>\n",
              "      <th>2</th>\n",
              "      <td>elevation_medium</td>\n",
              "      <td>aspect_low</td>\n",
              "      <td>slope_low</td>\n",
              "      <td>hillshade_9am_max</td>\n",
              "      <td>hillnoon_max</td>\n",
              "      <td>1</td>\n",
              "      <td>1</td>\n",
              "      <td>low</td>\n",
              "      <td>10</td>\n",
              "      <td>2</td>\n",
              "      <td>2</td>\n",
              "    </tr>\n",
              "    <tr>\n",
              "      <th>3</th>\n",
              "      <td>elevation_high</td>\n",
              "      <td>aspect_ultra</td>\n",
              "      <td>slope_medium</td>\n",
              "      <td>hillshade_9am_max</td>\n",
              "      <td>hillnoon_max</td>\n",
              "      <td>2</td>\n",
              "      <td>1</td>\n",
              "      <td>low</td>\n",
              "      <td>23</td>\n",
              "      <td>2</td>\n",
              "      <td>1</td>\n",
              "    </tr>\n",
              "    <tr>\n",
              "      <th>4</th>\n",
              "      <td>elevation_high</td>\n",
              "      <td>aspect_high</td>\n",
              "      <td>slope_low</td>\n",
              "      <td>hillshade_9am_max</td>\n",
              "      <td>hillnoon_max</td>\n",
              "      <td>2</td>\n",
              "      <td>1</td>\n",
              "      <td>mid</td>\n",
              "      <td>28</td>\n",
              "      <td>0</td>\n",
              "      <td>2</td>\n",
              "    </tr>\n",
              "  </tbody>\n",
              "</table>\n",
              "</div>"
            ],
            "text/plain": [
              "          Elevation         Aspect         Slope  ... Soil_Type Wilderness  target\n",
              "0  elevation_medium  aspect_medium     slope_low  ...        22          0       2\n",
              "1    elevation_high  aspect_medium     slope_low  ...        32          2       1\n",
              "2  elevation_medium     aspect_low     slope_low  ...        10          2       2\n",
              "3    elevation_high   aspect_ultra  slope_medium  ...        23          2       1\n",
              "4    elevation_high    aspect_high     slope_low  ...        28          0       2\n",
              "\n",
              "[5 rows x 11 columns]"
            ]
          },
          "metadata": {},
          "execution_count": 164
        }
      ]
    },
    {
      "cell_type": "markdown",
      "metadata": {
        "id": "zbbIHa_qJ3Ar"
      },
      "source": [
        "**Ordinal Encoding to convert string categorical features to ordinal features**"
      ]
    },
    {
      "cell_type": "code",
      "metadata": {
        "id": "OTjiuk6uhppx"
      },
      "source": [
        "#ordinal encoding of string categorical features\n",
        "l=asarray(df['Elevation'])\n",
        "l1=np.reshape(l,(len(l),1))\n",
        "enc = OrdinalEncoder()\n",
        "enc.fit(l1)\n",
        "result = enc.fit_transform(l1)\n",
        "for x in range(len(result)):\n",
        "  result[x]=int(result[x])\n",
        "df['Elevation']=result\n",
        "df['Elevation'] = df['Elevation'].astype(int)"
      ],
      "execution_count": 165,
      "outputs": []
    },
    {
      "cell_type": "code",
      "metadata": {
        "id": "MZhZXZS6ym8N"
      },
      "source": [
        "l=asarray(df['Aspect'])\n",
        "l1=np.reshape(l,(len(l),1))\n",
        "enc = OrdinalEncoder()\n",
        "enc.fit(l1)\n",
        "result = enc.fit_transform(l1)\n",
        "for x in range(len(result)):\n",
        "  result[x]=int(result[x])\n",
        "df['Aspect']=result\n",
        "df['Aspect'] = df['Aspect'].astype(int)"
      ],
      "execution_count": 166,
      "outputs": []
    },
    {
      "cell_type": "code",
      "metadata": {
        "id": "b0GLmmaXyroU"
      },
      "source": [
        "l=asarray(df['Slope'])\n",
        "l1=np.reshape(l,(len(l),1))\n",
        "enc = OrdinalEncoder()\n",
        "enc.fit(l1)\n",
        "result = enc.fit_transform(l1)\n",
        "for x in range(len(result)):\n",
        "  result[x]=int(result[x])\n",
        "df['Slope']=result\n",
        "df['Slope'] = df['Slope'].astype(int)"
      ],
      "execution_count": 167,
      "outputs": []
    },
    {
      "cell_type": "code",
      "metadata": {
        "id": "GVE-Wn4gyu2-"
      },
      "source": [
        "l=asarray(df['Hillshade_9am'])\n",
        "l1=np.reshape(l,(len(l),1))\n",
        "enc = OrdinalEncoder()\n",
        "enc.fit(l1)\n",
        "result = enc.fit_transform(l1)\n",
        "for x in range(len(result)):\n",
        "  result[x]=int(result[x])\n",
        "df['Hillshade_9am']=result\n",
        "df['Hillshade_9am'] = df['Hillshade_9am'].astype(int)"
      ],
      "execution_count": 168,
      "outputs": []
    },
    {
      "cell_type": "code",
      "metadata": {
        "id": "bCT3i0OPyvdY"
      },
      "source": [
        "l=asarray(df['Hillshade_Noon'])\n",
        "l1=np.reshape(l,(len(l),1))\n",
        "enc = OrdinalEncoder()\n",
        "enc.fit(l1)\n",
        "result = enc.fit_transform(l1)\n",
        "for x in range(len(result)):\n",
        "  result[x]=int(result[x])\n",
        "df['Hillshade_Noon']=result\n",
        "df['Hillshade_Noon'] = df['Hillshade_Noon'].astype(int)"
      ],
      "execution_count": 169,
      "outputs": []
    },
    {
      "cell_type": "code",
      "metadata": {
        "id": "vx-Vmdl_yyDW"
      },
      "source": [
        "l=asarray(df['Horizontal_Distance_To_Fire_Points'])\n",
        "l1=np.reshape(l,(len(l),1))\n",
        "enc = OrdinalEncoder()\n",
        "enc.fit(l1)\n",
        "result = enc.fit_transform(l1)\n",
        "for x in range(len(result)):\n",
        "  result[x]=int(result[x])\n",
        "df['Horizontal_Distance_To_Fire_Points']=result\n",
        "df['Horizontal_Distance_To_Fire_Points'] = df['Horizontal_Distance_To_Fire_Points'].astype(int)"
      ],
      "execution_count": 170,
      "outputs": []
    },
    {
      "cell_type": "code",
      "metadata": {
        "colab": {
          "base_uri": "https://localhost:8080/",
          "height": 226
        },
        "id": "HCBZnD4hzJXT",
        "outputId": "953540d4-cece-4320-9386-4e2ed475667e"
      },
      "source": [
        "#displaying dataframe after performing ordinal encoding of all categorical columns\n",
        "df.head()"
      ],
      "execution_count": 171,
      "outputs": [
        {
          "output_type": "execute_result",
          "data": {
            "text/html": [
              "<div>\n",
              "<style scoped>\n",
              "    .dataframe tbody tr th:only-of-type {\n",
              "        vertical-align: middle;\n",
              "    }\n",
              "\n",
              "    .dataframe tbody tr th {\n",
              "        vertical-align: top;\n",
              "    }\n",
              "\n",
              "    .dataframe thead th {\n",
              "        text-align: right;\n",
              "    }\n",
              "</style>\n",
              "<table border=\"1\" class=\"dataframe\">\n",
              "  <thead>\n",
              "    <tr style=\"text-align: right;\">\n",
              "      <th></th>\n",
              "      <th>Elevation</th>\n",
              "      <th>Aspect</th>\n",
              "      <th>Slope</th>\n",
              "      <th>Hillshade_9am</th>\n",
              "      <th>Hillshade_Noon</th>\n",
              "      <th>Horizontal_Distance_To_Hydrology</th>\n",
              "      <th>Vertical_Distance_To_Hydrology</th>\n",
              "      <th>Horizontal_Distance_To_Fire_Points</th>\n",
              "      <th>Soil_Type</th>\n",
              "      <th>Wilderness</th>\n",
              "      <th>target</th>\n",
              "    </tr>\n",
              "  </thead>\n",
              "  <tbody>\n",
              "    <tr>\n",
              "      <th>0</th>\n",
              "      <td>2</td>\n",
              "      <td>2</td>\n",
              "      <td>1</td>\n",
              "      <td>0</td>\n",
              "      <td>0</td>\n",
              "      <td>0</td>\n",
              "      <td>1</td>\n",
              "      <td>1</td>\n",
              "      <td>22</td>\n",
              "      <td>0</td>\n",
              "      <td>2</td>\n",
              "    </tr>\n",
              "    <tr>\n",
              "      <th>1</th>\n",
              "      <td>0</td>\n",
              "      <td>2</td>\n",
              "      <td>1</td>\n",
              "      <td>0</td>\n",
              "      <td>0</td>\n",
              "      <td>1</td>\n",
              "      <td>1</td>\n",
              "      <td>2</td>\n",
              "      <td>32</td>\n",
              "      <td>2</td>\n",
              "      <td>1</td>\n",
              "    </tr>\n",
              "    <tr>\n",
              "      <th>2</th>\n",
              "      <td>2</td>\n",
              "      <td>1</td>\n",
              "      <td>1</td>\n",
              "      <td>0</td>\n",
              "      <td>0</td>\n",
              "      <td>1</td>\n",
              "      <td>1</td>\n",
              "      <td>1</td>\n",
              "      <td>10</td>\n",
              "      <td>2</td>\n",
              "      <td>2</td>\n",
              "    </tr>\n",
              "    <tr>\n",
              "      <th>3</th>\n",
              "      <td>0</td>\n",
              "      <td>3</td>\n",
              "      <td>2</td>\n",
              "      <td>0</td>\n",
              "      <td>0</td>\n",
              "      <td>2</td>\n",
              "      <td>1</td>\n",
              "      <td>1</td>\n",
              "      <td>23</td>\n",
              "      <td>2</td>\n",
              "      <td>1</td>\n",
              "    </tr>\n",
              "    <tr>\n",
              "      <th>4</th>\n",
              "      <td>0</td>\n",
              "      <td>0</td>\n",
              "      <td>1</td>\n",
              "      <td>0</td>\n",
              "      <td>0</td>\n",
              "      <td>2</td>\n",
              "      <td>1</td>\n",
              "      <td>2</td>\n",
              "      <td>28</td>\n",
              "      <td>0</td>\n",
              "      <td>2</td>\n",
              "    </tr>\n",
              "  </tbody>\n",
              "</table>\n",
              "</div>"
            ],
            "text/plain": [
              "   Elevation  Aspect  Slope  ...  Soil_Type  Wilderness  target\n",
              "0          2       2      1  ...         22           0       2\n",
              "1          0       2      1  ...         32           2       1\n",
              "2          2       1      1  ...         10           2       2\n",
              "3          0       3      2  ...         23           2       1\n",
              "4          0       0      1  ...         28           0       2\n",
              "\n",
              "[5 rows x 11 columns]"
            ]
          },
          "metadata": {},
          "execution_count": 171
        }
      ]
    },
    {
      "cell_type": "markdown",
      "metadata": {
        "id": "geUCXRRvKKfr"
      },
      "source": [
        "**Feature Selection**"
      ]
    },
    {
      "cell_type": "code",
      "metadata": {
        "id": "TYlsepEtzUal"
      },
      "source": [
        "#separating input and target columns\n",
        "properties = list(df.columns.values)\n",
        "properties.remove('target')\n",
        "X = df[properties]\n",
        "y = df['target']"
      ],
      "execution_count": 172,
      "outputs": []
    },
    {
      "cell_type": "code",
      "metadata": {
        "colab": {
          "base_uri": "https://localhost:8080/",
          "height": 458
        },
        "id": "SHMWTqvIKT_Q",
        "outputId": "ecf1fc8f-f152-4abb-dd00-1dc594e3e117"
      },
      "source": [
        "#Evaluating and plotting information gain of each input feature\n",
        "imp=mutual_info_classif(X, y)\n",
        "featImp=pd.Series(imp,df.columns[0:len(df.columns)-1])\n",
        "featImp.plot(kind='bar',color='teal')\n",
        "plt.title('Information Gain of the features')\n",
        "plt.xlabel('Feature Name')\n",
        "plt.ylabel('Information Gain Value')\n",
        "plt.show()"
      ],
      "execution_count": 173,
      "outputs": [
        {
          "output_type": "display_data",
          "data": {
            "image/png": "[encoded data removed]",
            "text/plain": [
              "<Figure size 432x288 with 1 Axes>"
            ]
          },
          "metadata": {
            "needs_background": "light"
          }
        }
      ]
    },
    {
      "cell_type": "code",
      "metadata": {
        "id": "2HiSUtyLeOtj"
      },
      "source": [
        "#Dropping feature which have less than 0.1 information gain\n",
        "featureNames=list(df.columns)\n",
        "importantFeatures=list()\n",
        "for i in range(len(imp)):\n",
        "  if(imp[i]>0.1):\n",
        "    importantFeatures.append(featureNames[i])"
      ],
      "execution_count": 174,
      "outputs": []
    },
    {
      "cell_type": "code",
      "metadata": {
        "colab": {
          "base_uri": "https://localhost:8080/"
        },
        "id": "N1-iFz_feYbC",
        "outputId": "cc796653-10e5-4898-96b4-315a90dfc120"
      },
      "source": [
        "#Displaying features with information gain > 0.1\n",
        "importantFeatures"
      ],
      "execution_count": 175,
      "outputs": [
        {
          "output_type": "execute_result",
          "data": {
            "text/plain": [
              "['Elevation', 'Soil_Type', 'Wilderness']"
            ]
          },
          "metadata": {},
          "execution_count": 175
        }
      ]
    },
    {
      "cell_type": "code",
      "metadata": {
        "id": "ym33W1_0ejF9"
      },
      "source": [
        "#Creating dataframe which contains above features\n",
        "df2=df[importantFeatures]"
      ],
      "execution_count": 176,
      "outputs": []
    },
    {
      "cell_type": "code",
      "metadata": {
        "colab": {
          "base_uri": "https://localhost:8080/",
          "height": 423
        },
        "id": "3ZwiDsvLelzP",
        "outputId": "3163421f-04c0-43c8-f242-885521e33770"
      },
      "source": [
        "#Displaying dataframe that contains features with information gain >0.1\n",
        "df2"
      ],
      "execution_count": 177,
      "outputs": [
        {
          "output_type": "execute_result",
          "data": {
            "text/html": [
              "<div>\n",
              "<style scoped>\n",
              "    .dataframe tbody tr th:only-of-type {\n",
              "        vertical-align: middle;\n",
              "    }\n",
              "\n",
              "    .dataframe tbody tr th {\n",
              "        vertical-align: top;\n",
              "    }\n",
              "\n",
              "    .dataframe thead th {\n",
              "        text-align: right;\n",
              "    }\n",
              "</style>\n",
              "<table border=\"1\" class=\"dataframe\">\n",
              "  <thead>\n",
              "    <tr style=\"text-align: right;\">\n",
              "      <th></th>\n",
              "      <th>Elevation</th>\n",
              "      <th>Soil_Type</th>\n",
              "      <th>Wilderness</th>\n",
              "    </tr>\n",
              "  </thead>\n",
              "  <tbody>\n",
              "    <tr>\n",
              "      <th>0</th>\n",
              "      <td>2</td>\n",
              "      <td>22</td>\n",
              "      <td>0</td>\n",
              "    </tr>\n",
              "    <tr>\n",
              "      <th>1</th>\n",
              "      <td>0</td>\n",
              "      <td>32</td>\n",
              "      <td>2</td>\n",
              "    </tr>\n",
              "    <tr>\n",
              "      <th>2</th>\n",
              "      <td>2</td>\n",
              "      <td>10</td>\n",
              "      <td>2</td>\n",
              "    </tr>\n",
              "    <tr>\n",
              "      <th>3</th>\n",
              "      <td>0</td>\n",
              "      <td>23</td>\n",
              "      <td>2</td>\n",
              "    </tr>\n",
              "    <tr>\n",
              "      <th>4</th>\n",
              "      <td>0</td>\n",
              "      <td>28</td>\n",
              "      <td>0</td>\n",
              "    </tr>\n",
              "    <tr>\n",
              "      <th>...</th>\n",
              "      <td>...</td>\n",
              "      <td>...</td>\n",
              "      <td>...</td>\n",
              "    </tr>\n",
              "    <tr>\n",
              "      <th>405630</th>\n",
              "      <td>0</td>\n",
              "      <td>3</td>\n",
              "      <td>2</td>\n",
              "    </tr>\n",
              "    <tr>\n",
              "      <th>405688</th>\n",
              "      <td>2</td>\n",
              "      <td>19</td>\n",
              "      <td>0</td>\n",
              "    </tr>\n",
              "    <tr>\n",
              "      <th>405828</th>\n",
              "      <td>0</td>\n",
              "      <td>28</td>\n",
              "      <td>0</td>\n",
              "    </tr>\n",
              "    <tr>\n",
              "      <th>405883</th>\n",
              "      <td>1</td>\n",
              "      <td>2</td>\n",
              "      <td>2</td>\n",
              "    </tr>\n",
              "    <tr>\n",
              "      <th>406025</th>\n",
              "      <td>0</td>\n",
              "      <td>39</td>\n",
              "      <td>2</td>\n",
              "    </tr>\n",
              "  </tbody>\n",
              "</table>\n",
              "<p>12495 rows × 3 columns</p>\n",
              "</div>"
            ],
            "text/plain": [
              "        Elevation  Soil_Type  Wilderness\n",
              "0               2         22           0\n",
              "1               0         32           2\n",
              "2               2         10           2\n",
              "3               0         23           2\n",
              "4               0         28           0\n",
              "...           ...        ...         ...\n",
              "405630          0          3           2\n",
              "405688          2         19           0\n",
              "405828          0         28           0\n",
              "405883          1          2           2\n",
              "406025          0         39           2\n",
              "\n",
              "[12495 rows x 3 columns]"
            ]
          },
          "metadata": {},
          "execution_count": 177
        }
      ]
    },
    {
      "cell_type": "markdown",
      "metadata": {
        "id": "0YlzXcG3LXb8"
      },
      "source": [
        "**Performing TSNE(T-distributed Stochastic Neighbor Embedding)**"
      ]
    },
    {
      "cell_type": "code",
      "metadata": {
        "id": "Zw-aiZBHNBbt"
      },
      "source": [
        "# normalize the values of all input features present in the df2 dataframe\n",
        "X = whiten(df2)"
      ],
      "execution_count": 178,
      "outputs": []
    },
    {
      "cell_type": "code",
      "metadata": {
        "id": "xxb2dhjaW3Yg"
      },
      "source": [
        "#TSNE will reduce the number of features to two\n",
        "from sklearn.manifold import TSNE\n",
        "c_tsne = TSNE(n_components=2).fit_transform(X)\n",
        "c_tsne=pd.DataFrame(c_tsne)"
      ],
      "execution_count": 179,
      "outputs": []
    },
    {
      "cell_type": "code",
      "metadata": {
        "colab": {
          "base_uri": "https://localhost:8080/",
          "height": 458
        },
        "id": "Ympc90ROMCWP",
        "outputId": "b316347c-b92f-4d60-b1c0-539184324dbd"
      },
      "source": [
        "#Displaying dataframe created by TSNE that contains two features\n",
        "print(\"0: Feature one created by TSNE\")\n",
        "print(\"1: Feature two created by TSNE\")\n",
        "c_tsne"
      ],
      "execution_count": 180,
      "outputs": [
        {
          "output_type": "stream",
          "name": "stdout",
          "text": [
            "0: Feature one created by TSNE\n",
            "1: Feature two created by TSNE\n"
          ]
        },
        {
          "output_type": "execute_result",
          "data": {
            "text/html": [
              "<div>\n",
              "<style scoped>\n",
              "    .dataframe tbody tr th:only-of-type {\n",
              "        vertical-align: middle;\n",
              "    }\n",
              "\n",
              "    .dataframe tbody tr th {\n",
              "        vertical-align: top;\n",
              "    }\n",
              "\n",
              "    .dataframe thead th {\n",
              "        text-align: right;\n",
              "    }\n",
              "</style>\n",
              "<table border=\"1\" class=\"dataframe\">\n",
              "  <thead>\n",
              "    <tr style=\"text-align: right;\">\n",
              "      <th></th>\n",
              "      <th>0</th>\n",
              "      <th>1</th>\n",
              "    </tr>\n",
              "  </thead>\n",
              "  <tbody>\n",
              "    <tr>\n",
              "      <th>0</th>\n",
              "      <td>-48.138676</td>\n",
              "      <td>-44.149132</td>\n",
              "    </tr>\n",
              "    <tr>\n",
              "      <th>1</th>\n",
              "      <td>-3.570309</td>\n",
              "      <td>-21.123844</td>\n",
              "    </tr>\n",
              "    <tr>\n",
              "      <th>2</th>\n",
              "      <td>39.193378</td>\n",
              "      <td>9.932304</td>\n",
              "    </tr>\n",
              "    <tr>\n",
              "      <th>3</th>\n",
              "      <td>-11.184786</td>\n",
              "      <td>-44.345562</td>\n",
              "    </tr>\n",
              "    <tr>\n",
              "      <th>4</th>\n",
              "      <td>-11.612286</td>\n",
              "      <td>2.193435</td>\n",
              "    </tr>\n",
              "    <tr>\n",
              "      <th>...</th>\n",
              "      <td>...</td>\n",
              "      <td>...</td>\n",
              "    </tr>\n",
              "    <tr>\n",
              "      <th>12490</th>\n",
              "      <td>55.748947</td>\n",
              "      <td>59.625298</td>\n",
              "    </tr>\n",
              "    <tr>\n",
              "      <th>12491</th>\n",
              "      <td>-5.976393</td>\n",
              "      <td>71.234589</td>\n",
              "    </tr>\n",
              "    <tr>\n",
              "      <th>12492</th>\n",
              "      <td>-13.101115</td>\n",
              "      <td>3.765721</td>\n",
              "    </tr>\n",
              "    <tr>\n",
              "      <th>12493</th>\n",
              "      <td>-16.816324</td>\n",
              "      <td>-70.920181</td>\n",
              "    </tr>\n",
              "    <tr>\n",
              "      <th>12494</th>\n",
              "      <td>-70.757088</td>\n",
              "      <td>-28.621172</td>\n",
              "    </tr>\n",
              "  </tbody>\n",
              "</table>\n",
              "<p>12495 rows × 2 columns</p>\n",
              "</div>"
            ],
            "text/plain": [
              "               0          1\n",
              "0     -48.138676 -44.149132\n",
              "1      -3.570309 -21.123844\n",
              "2      39.193378   9.932304\n",
              "3     -11.184786 -44.345562\n",
              "4     -11.612286   2.193435\n",
              "...          ...        ...\n",
              "12490  55.748947  59.625298\n",
              "12491  -5.976393  71.234589\n",
              "12492 -13.101115   3.765721\n",
              "12493 -16.816324 -70.920181\n",
              "12494 -70.757088 -28.621172\n",
              "\n",
              "[12495 rows x 2 columns]"
            ]
          },
          "metadata": {},
          "execution_count": 180
        }
      ]
    },
    {
      "cell_type": "markdown",
      "metadata": {
        "id": "_JDcF2O_M1My"
      },
      "source": [
        "**Implementing K-Means Algorithm**"
      ]
    },
    {
      "cell_type": "code",
      "metadata": {
        "id": "1PTHlVIo8oVK"
      },
      "source": [
        "#Splitting into training and testing data\n",
        "X_train, X_test, y_train, y_test = train_test_split(c_tsne, y, test_size=0.2,random_state=9)"
      ],
      "execution_count": 181,
      "outputs": []
    },
    {
      "cell_type": "code",
      "metadata": {
        "id": "wv5ncJq4aoFI"
      },
      "source": [
        "#Reseting index\n",
        "X_train.reset_index(drop=True,inplace=True)\n",
        "X_test.reset_index(drop=True,inplace=True)\n",
        "y_train.reset_index(drop=True,inplace=True)\n",
        "y_test.reset_index(drop=True,inplace=True)"
      ],
      "execution_count": 182,
      "outputs": []
    },
    {
      "cell_type": "code",
      "metadata": {
        "colab": {
          "base_uri": "https://localhost:8080/"
        },
        "id": "jzCJZbxzOlC-",
        "outputId": "0e0999ec-9efe-4f64-d6c1-abeac0db872a"
      },
      "source": [
        "#Displaying number of training and testing instances\n",
        "print(\"Number of instances in Training dataset:\",len(X_train.index))\n",
        "print(\"Number of instances in Testing dataset: \",len(X_test.index))"
      ],
      "execution_count": 183,
      "outputs": [
        {
          "output_type": "stream",
          "name": "stdout",
          "text": [
            "Number of instances in Training dataset: 9996\n",
            "Number of instances in Testing dataset:  2499\n"
          ]
        }
      ]
    },
    {
      "cell_type": "code",
      "metadata": {
        "id": "LAwqw-8O97J8"
      },
      "source": [
        "#Creating K-Means Model and training on train dataset\n",
        "kmeans = KMeans(n_clusters= 7,random_state=8)\n",
        "clustersTrain = kmeans.fit_predict(X_train)\n",
        "clustersTest  = kmeans.predict(X_test)\n",
        "centroids = kmeans.cluster_centers_\n",
        "centroids=pd.DataFrame(centroids)"
      ],
      "execution_count": 197,
      "outputs": []
    },
    {
      "cell_type": "code",
      "metadata": {
        "colab": {
          "base_uri": "https://localhost:8080/"
        },
        "id": "1osLfXds1fTB",
        "outputId": "14362e1d-904e-46a4-edb5-c50e8a03685e"
      },
      "source": [
        "#Displaying all the unique values of cluster numbers predicted\n",
        "uniqueClusters=[]\n",
        "for x in clustersTrain:\n",
        "  if x not in uniqueClusters:\n",
        "    uniqueClusters.append(x)\n",
        "uniqueClusters"
      ],
      "execution_count": 198,
      "outputs": [
        {
          "output_type": "execute_result",
          "data": {
            "text/plain": [
              "[1, 0, 5, 6, 2, 3, 4]"
            ]
          },
          "metadata": {},
          "execution_count": 198
        }
      ]
    },
    {
      "cell_type": "code",
      "metadata": {
        "colab": {
          "base_uri": "https://localhost:8080/"
        },
        "id": "KJaqtTZt2JRl",
        "outputId": "a99fb86d-d717-45bc-ccd8-3bf621359930"
      },
      "source": [
        "#Displaying cluster number with the number of instances predicted that value of cluster\n",
        "print(\"Cluster Predicted\",\":\",\"Number of instances\")\n",
        "for x in range(0,7):\n",
        "  print(\"\\t\",x,\"\\t\\t\",list(clustersTrain).count(x))"
      ],
      "execution_count": 199,
      "outputs": [
        {
          "output_type": "stream",
          "name": "stdout",
          "text": [
            "Cluster Predicted : Number of instances\n",
            "\t 0 \t\t 1485\n",
            "\t 1 \t\t 1106\n",
            "\t 2 \t\t 1909\n",
            "\t 3 \t\t 1256\n",
            "\t 4 \t\t 1243\n",
            "\t 5 \t\t 1511\n",
            "\t 6 \t\t 1486\n"
          ]
        }
      ]
    },
    {
      "cell_type": "code",
      "metadata": {
        "id": "qo_m9LPY3Rz7"
      },
      "source": [
        "#fetching true labels of all the instances of training dataset\n",
        "trueLabelsTrain=y_train\n",
        "uniqueTrueLabelsTrain =np.array(trueLabelsTrain)\n",
        "trueLabelsTrain=trueLabelsTrain.to_list()"
      ],
      "execution_count": 200,
      "outputs": []
    },
    {
      "cell_type": "code",
      "metadata": {
        "colab": {
          "base_uri": "https://localhost:8080/"
        },
        "id": "ETKs3LFmQMOi",
        "outputId": "1750de06-a1d7-489e-f2d6-54544c015425"
      },
      "source": [
        "#Displaying unique true lables values\n",
        "print(\"Unique values of True label:\",np.unique(uniqueTrueLabelsTrain))"
      ],
      "execution_count": 201,
      "outputs": [
        {
          "output_type": "stream",
          "name": "stdout",
          "text": [
            "Unique values of True label: [1 2 3 4 5 6 7]\n"
          ]
        }
      ]
    },
    {
      "cell_type": "code",
      "metadata": {
        "id": "ijpROJRx7Wly"
      },
      "source": [
        "#function to find most frequent element in the list\n",
        "def most_frequent(List):\n",
        "    return max(set(List), key = List.count)"
      ],
      "execution_count": 202,
      "outputs": []
    },
    {
      "cell_type": "code",
      "metadata": {
        "id": "18uoa8nbMS-6"
      },
      "source": [
        "#Creating function \"findMajorityLabels\" that returns dictionary \"majorityLabels\" that will contain majority true label for each cluster\n",
        "#In the dictionary \"majorityLabels\", key will be cluster and value will be its majority label\n",
        "def findMajorityLabels(clustersTrain,trueLabelsTrain):\n",
        "  majorityLabels={}\n",
        "  for eachClusterValue in range(0,7):\n",
        "    trueLabeslListForCurrentCluster=[]\n",
        "    for eachClusterNumber in range(len(clustersTrain)):\n",
        "      if clustersTrain[eachClusterNumber]==eachClusterValue:\n",
        "        trueLabeslListForCurrentCluster.append(trueLabelsTrain[eachClusterNumber])\n",
        "    majorityLabel=most_frequent(trueLabeslListForCurrentCluster)\n",
        "    majorityLabels[eachClusterValue]=majorityLabel\n",
        "  return majorityLabels"
      ],
      "execution_count": 203,
      "outputs": []
    },
    {
      "cell_type": "code",
      "metadata": {
        "id": "0ujCT83V7xXA"
      },
      "source": [
        "#creating dataframe for the storing cluster with its majority true label\n",
        "majorityLabelDataframe=pd.DataFrame(columns=['Cluster Number','Majority Label'])\n",
        "for clusterNumber,majorityLabel in majorityLabels.items():\n",
        "  majorityLabelDataframe.loc[len(majorityLabelDataframe.index)] = [clusterNumber,majorityLabel] "
      ],
      "execution_count": 204,
      "outputs": []
    },
    {
      "cell_type": "code",
      "metadata": {
        "colab": {
          "base_uri": "https://localhost:8080/",
          "height": 269
        },
        "id": "BfitYrok9hj9",
        "outputId": "c3f048a1-9671-42fd-af82-909c830eb10b"
      },
      "source": [
        "#displaying majorityLabelDataframe\n",
        "majorityLabelDataframe"
      ],
      "execution_count": 205,
      "outputs": [
        {
          "output_type": "execute_result",
          "data": {
            "text/html": [
              "<div>\n",
              "<style scoped>\n",
              "    .dataframe tbody tr th:only-of-type {\n",
              "        vertical-align: middle;\n",
              "    }\n",
              "\n",
              "    .dataframe tbody tr th {\n",
              "        vertical-align: top;\n",
              "    }\n",
              "\n",
              "    .dataframe thead th {\n",
              "        text-align: right;\n",
              "    }\n",
              "</style>\n",
              "<table border=\"1\" class=\"dataframe\">\n",
              "  <thead>\n",
              "    <tr style=\"text-align: right;\">\n",
              "      <th></th>\n",
              "      <th>Cluster Number</th>\n",
              "      <th>Majority Label</th>\n",
              "    </tr>\n",
              "  </thead>\n",
              "  <tbody>\n",
              "    <tr>\n",
              "      <th>0</th>\n",
              "      <td>0</td>\n",
              "      <td>2</td>\n",
              "    </tr>\n",
              "    <tr>\n",
              "      <th>1</th>\n",
              "      <td>1</td>\n",
              "      <td>2</td>\n",
              "    </tr>\n",
              "    <tr>\n",
              "      <th>2</th>\n",
              "      <td>2</td>\n",
              "      <td>2</td>\n",
              "    </tr>\n",
              "    <tr>\n",
              "      <th>3</th>\n",
              "      <td>3</td>\n",
              "      <td>2</td>\n",
              "    </tr>\n",
              "    <tr>\n",
              "      <th>4</th>\n",
              "      <td>4</td>\n",
              "      <td>1</td>\n",
              "    </tr>\n",
              "    <tr>\n",
              "      <th>5</th>\n",
              "      <td>5</td>\n",
              "      <td>2</td>\n",
              "    </tr>\n",
              "    <tr>\n",
              "      <th>6</th>\n",
              "      <td>6</td>\n",
              "      <td>2</td>\n",
              "    </tr>\n",
              "  </tbody>\n",
              "</table>\n",
              "</div>"
            ],
            "text/plain": [
              "  Cluster Number Majority Label\n",
              "0              0              2\n",
              "1              1              2\n",
              "2              2              2\n",
              "3              3              2\n",
              "4              4              1\n",
              "5              5              2\n",
              "6              6              2"
            ]
          },
          "metadata": {},
          "execution_count": 205
        }
      ]
    },
    {
      "cell_type": "code",
      "metadata": {
        "id": "K3NKc0E8ryd8"
      },
      "source": [
        "#Finding corresponding true label for the training instances using predicted cluster \n",
        "predictedTrueLabelTrain=[]\n",
        "for eachCluster in clustersTrain:\n",
        "  predictedTrueLabelTrain.append(majorityLabels[eachCluster])"
      ],
      "execution_count": 206,
      "outputs": []
    },
    {
      "cell_type": "code",
      "metadata": {
        "colab": {
          "base_uri": "https://localhost:8080/"
        },
        "id": "LnmdBsCkUeBJ",
        "outputId": "d7160711-f6ea-46c1-ec82-fd771100632d"
      },
      "source": [
        "#Evaluating and displaying F1 score on the training instances\n",
        "f1ScoreTrain=f1_score(predictedTrueLabelTrain, y_train,average='weighted')\n",
        "print(\"F1 score on Training instances: \",f1ScoreTrain,\"=\",\"{0:.2f}\".format(f1ScoreTrain*100),\"%\")  "
      ],
      "execution_count": 207,
      "outputs": [
        {
          "output_type": "stream",
          "name": "stdout",
          "text": [
            "F1 score on Training instances:  0.4772368665146889 = 47.72 %\n"
          ]
        }
      ]
    },
    {
      "cell_type": "code",
      "metadata": {
        "id": "kyV-uQryS7IO"
      },
      "source": [
        "#Finding corresponding true label for the testing instances using predicted cluster \n",
        "predictedTrueLabelTest=[]\n",
        "for eachCluster in clustersTest:\n",
        "  predictedTrueLabelTest.append(majorityLabels[eachCluster])"
      ],
      "execution_count": 208,
      "outputs": []
    },
    {
      "cell_type": "code",
      "metadata": {
        "colab": {
          "base_uri": "https://localhost:8080/"
        },
        "id": "IwF27hX9TInW",
        "outputId": "3db0a859-44b6-4581-e260-abf27d2368e7"
      },
      "source": [
        "#Evaluating and displaying F1 score on the testing instances\n",
        "f1ScoreTest=f1_score(predictedTrueLabelTest, y_test,average='weighted')\n",
        "print(\"F1 score on Testing instances: \",f1ScoreTest,\"=\",\"{0:.2f}\".format(f1ScoreTest*100),\"%\") "
      ],
      "execution_count": 209,
      "outputs": [
        {
          "output_type": "stream",
          "name": "stdout",
          "text": [
            "F1 score on Testing instances:  0.45452274789295827 = 45.45 %\n"
          ]
        }
      ]
    },
    {
      "cell_type": "code",
      "metadata": {
        "colab": {
          "base_uri": "https://localhost:8080/"
        },
        "id": "JPn2Kx8B7gzo",
        "outputId": "747ea527-b42f-4d2c-9ace-ff918c756883"
      },
      "source": [
        "#Evaluating and storing frequency of instances of each True label\n",
        "trueLabelsCount=[0,0,0,0,0,0,0]\n",
        "for eachTrueLabel in y:\n",
        "  trueLabelsCount[eachTrueLabel-1]=trueLabelsCount[eachTrueLabel-1]+1\n",
        "print(\"True Label\",\"  \",\"Number of Instances\")\n",
        "for eachTrueLabelValue in range(1,8):\n",
        "  print(eachTrueLabelValue,\"\\t\\t\",trueLabelsCount[eachTrueLabelValue-1])"
      ],
      "execution_count": 210,
      "outputs": [
        {
          "output_type": "stream",
          "name": "stdout",
          "text": [
            "True Label    Number of Instances\n",
            "1 \t\t 4112\n",
            "2 \t\t 4711\n",
            "3 \t\t 1056\n",
            "4 \t\t 175\n",
            "5 \t\t 597\n",
            "6 \t\t 686\n",
            "7 \t\t 1158\n"
          ]
        }
      ]
    },
    {
      "cell_type": "code",
      "metadata": {
        "id": "0pOCTJBZ5w5i"
      },
      "source": [
        "#Evaluating the each true label count in each cluster\n",
        "def ClusterTrueLabelCount(clusters,trueLabels):\n",
        "  ClusterTrueLabelCounts=[]\n",
        "  for eachClusterValue in range(0,7):\n",
        "    trueLabeslListForCurrentCluster=[]\n",
        "    for eachClusterNumber in range(len(clusters)):\n",
        "      if clusters[eachClusterNumber]==eachClusterValue:\n",
        "        trueLabeslListForCurrentCluster.append(trueLabels[eachClusterNumber])\n",
        "    counts=[]\n",
        "    for value in range(1,8):\n",
        "      counts.append(trueLabeslListForCurrentCluster.count(value))\n",
        "    ClusterTrueLabelCounts.append(counts)\n",
        "  return ClusterTrueLabelCounts"
      ],
      "execution_count": 211,
      "outputs": []
    },
    {
      "cell_type": "code",
      "metadata": {
        "colab": {
          "base_uri": "https://localhost:8080/",
          "height": 335
        },
        "id": "Xo46t44Z6p3Y",
        "outputId": "e588f0fc-2fdf-463e-8721-b8b807b12b31"
      },
      "source": [
        "#Comparison between true label counts in dataset and in individual cluster for each true label\n",
        "clustersTrainList=clustersTrain.tolist()\n",
        "clustersTestList=clustersTest.tolist()\n",
        "\n",
        "clustersTrainList.extend(clustersTestList)\n",
        "clustersCombined=clustersTrainList\n",
        "\n",
        "trueLabelsTrain=y_train.to_list()\n",
        "trueLabelsTest=y_test.to_list()\n",
        "trueLabelsTrain.extend(trueLabelsTest)\n",
        "trueLabelsCombined=trueLabelsTrain\n",
        "l3=ClusterTrueLabelCount(clustersCombined,trueLabelsCombined)\n",
        "\n",
        "df4=pd.DataFrame(l3)\n",
        "df4=df4.T\n",
        "df4 = df4.rename(columns={0:'Cluster 0 Count',1:'Cluster 1 Count',2:'Cluster 2 Count',3:'Cluster 3 Count',4:'Cluster 4 Count',5:'Cluster 5 Count',6:'Cluster 6 Count'})\n",
        "df4['True Label']=[1,2,3,4,5,6,7]\n",
        "df4.set_index('True Label',drop=True,inplace=True)\n",
        "maxValuesOccured=df4.max(axis=1)\n",
        "clusterNumberMaxValue=list(df4.idxmax(axis=1))\n",
        "for q in range(len(clusterNumberMaxValue)):\n",
        "  clusterNumberMaxValue[q]=clusterNumberMaxValue[q].replace('Count','')\n",
        "df4['True Label Count']=trueLabelsCount\n",
        "df4['Maximum Label Count Occured Together']=maxValuesOccured\n",
        "df4['Cluster Number']=clusterNumberMaxValue\n",
        "df4"
      ],
      "execution_count": 212,
      "outputs": [
        {
          "output_type": "execute_result",
          "data": {
            "text/html": [
              "<div>\n",
              "<style scoped>\n",
              "    .dataframe tbody tr th:only-of-type {\n",
              "        vertical-align: middle;\n",
              "    }\n",
              "\n",
              "    .dataframe tbody tr th {\n",
              "        vertical-align: top;\n",
              "    }\n",
              "\n",
              "    .dataframe thead th {\n",
              "        text-align: right;\n",
              "    }\n",
              "</style>\n",
              "<table border=\"1\" class=\"dataframe\">\n",
              "  <thead>\n",
              "    <tr style=\"text-align: right;\">\n",
              "      <th></th>\n",
              "      <th>Cluster 0 Count</th>\n",
              "      <th>Cluster 1 Count</th>\n",
              "      <th>Cluster 2 Count</th>\n",
              "      <th>Cluster 3 Count</th>\n",
              "      <th>Cluster 4 Count</th>\n",
              "      <th>Cluster 5 Count</th>\n",
              "      <th>Cluster 6 Count</th>\n",
              "      <th>True Label Count</th>\n",
              "      <th>Maximum Label Count Occured Together</th>\n",
              "      <th>Cluster Number</th>\n",
              "    </tr>\n",
              "    <tr>\n",
              "      <th>True Label</th>\n",
              "      <th></th>\n",
              "      <th></th>\n",
              "      <th></th>\n",
              "      <th></th>\n",
              "      <th></th>\n",
              "      <th></th>\n",
              "      <th></th>\n",
              "      <th></th>\n",
              "      <th></th>\n",
              "      <th></th>\n",
              "    </tr>\n",
              "  </thead>\n",
              "  <tbody>\n",
              "    <tr>\n",
              "      <th>1</th>\n",
              "      <td>563</td>\n",
              "      <td>252</td>\n",
              "      <td>940</td>\n",
              "      <td>569</td>\n",
              "      <td>322</td>\n",
              "      <td>821</td>\n",
              "      <td>645</td>\n",
              "      <td>4112</td>\n",
              "      <td>940</td>\n",
              "      <td>Cluster 2</td>\n",
              "    </tr>\n",
              "    <tr>\n",
              "      <th>2</th>\n",
              "      <td>849</td>\n",
              "      <td>475</td>\n",
              "      <td>1060</td>\n",
              "      <td>505</td>\n",
              "      <td>611</td>\n",
              "      <td>850</td>\n",
              "      <td>361</td>\n",
              "      <td>4711</td>\n",
              "      <td>1060</td>\n",
              "      <td>Cluster 2</td>\n",
              "    </tr>\n",
              "    <tr>\n",
              "      <th>3</th>\n",
              "      <td>151</td>\n",
              "      <td>313</td>\n",
              "      <td>2</td>\n",
              "      <td>122</td>\n",
              "      <td>186</td>\n",
              "      <td>16</td>\n",
              "      <td>266</td>\n",
              "      <td>1056</td>\n",
              "      <td>313</td>\n",
              "      <td>Cluster 1</td>\n",
              "    </tr>\n",
              "    <tr>\n",
              "      <th>4</th>\n",
              "      <td>17</td>\n",
              "      <td>70</td>\n",
              "      <td>0</td>\n",
              "      <td>0</td>\n",
              "      <td>32</td>\n",
              "      <td>0</td>\n",
              "      <td>56</td>\n",
              "      <td>175</td>\n",
              "      <td>70</td>\n",
              "      <td>Cluster 1</td>\n",
              "    </tr>\n",
              "    <tr>\n",
              "      <th>5</th>\n",
              "      <td>98</td>\n",
              "      <td>103</td>\n",
              "      <td>106</td>\n",
              "      <td>92</td>\n",
              "      <td>124</td>\n",
              "      <td>61</td>\n",
              "      <td>13</td>\n",
              "      <td>597</td>\n",
              "      <td>124</td>\n",
              "      <td>Cluster 4</td>\n",
              "    </tr>\n",
              "    <tr>\n",
              "      <th>6</th>\n",
              "      <td>136</td>\n",
              "      <td>156</td>\n",
              "      <td>0</td>\n",
              "      <td>67</td>\n",
              "      <td>130</td>\n",
              "      <td>38</td>\n",
              "      <td>159</td>\n",
              "      <td>686</td>\n",
              "      <td>159</td>\n",
              "      <td>Cluster 6</td>\n",
              "    </tr>\n",
              "    <tr>\n",
              "      <th>7</th>\n",
              "      <td>53</td>\n",
              "      <td>39</td>\n",
              "      <td>249</td>\n",
              "      <td>200</td>\n",
              "      <td>176</td>\n",
              "      <td>118</td>\n",
              "      <td>323</td>\n",
              "      <td>1158</td>\n",
              "      <td>323</td>\n",
              "      <td>Cluster 6</td>\n",
              "    </tr>\n",
              "  </tbody>\n",
              "</table>\n",
              "</div>"
            ],
            "text/plain": [
              "            Cluster 0 Count  ...  Cluster Number\n",
              "True Label                   ...                \n",
              "1                       563  ...      Cluster 2 \n",
              "2                       849  ...      Cluster 2 \n",
              "3                       151  ...      Cluster 1 \n",
              "4                        17  ...      Cluster 1 \n",
              "5                        98  ...      Cluster 4 \n",
              "6                       136  ...      Cluster 6 \n",
              "7                        53  ...      Cluster 6 \n",
              "\n",
              "[7 rows x 10 columns]"
            ]
          },
          "metadata": {},
          "execution_count": 212
        }
      ]
    },
    {
      "cell_type": "code",
      "metadata": {
        "id": "ojMlQb6OI-ku"
      },
      "source": [
        "#Displaying centroids\n",
        "def displayCentroids(centroids):\n",
        "  if(type(centroids) != list):\n",
        "    centroids=centroids.to_numpy()\n",
        "    centroids=centroids.tolist()\n",
        "  centroidDataFrame=pd.DataFrame(centroids)\n",
        "  centroidDataFrame['Cluster']=[0,1,2,3,4,5,6]\n",
        "  centroidDataFrame = centroidDataFrame.rename(columns={0:'X Co-ordinate',1:'Y Co-ordinate'})\n",
        "  centroidDataFrame.set_index('Cluster',drop=True,inplace=True)\n",
        "  print(centroidDataFrame)"
      ],
      "execution_count": 241,
      "outputs": []
    },
    {
      "cell_type": "code",
      "metadata": {
        "colab": {
          "base_uri": "https://localhost:8080/"
        },
        "id": "t3lRDw1mIs4J",
        "outputId": "a4dbd9fe-a4aa-457d-93d5-ef920a97c084"
      },
      "source": [
        "#Displaying cluster co-ordinates\n",
        "displayCentroids(centroids)"
      ],
      "execution_count": 215,
      "outputs": [
        {
          "output_type": "stream",
          "name": "stdout",
          "text": [
            "         X Co-ordinate  Y Co-ordinate\n",
            "Cluster                              \n",
            "0           -51.279434      20.063602\n",
            "1            44.072403      30.432362\n",
            "2             1.550024      -4.080041\n",
            "3           -41.872391     -31.963842\n",
            "4            56.723030     -17.274429\n",
            "5            -4.055102      54.389763\n",
            "6             9.344375     -58.637558\n"
          ]
        }
      ]
    },
    {
      "cell_type": "code",
      "metadata": {
        "colab": {
          "base_uri": "https://localhost:8080/",
          "height": 312
        },
        "id": "BXEAVlE0T5zz",
        "outputId": "943ab986-2ca1-4e6c-c32f-b467cd59636f"
      },
      "source": [
        "#Visualization of clusters\n",
        "\n",
        "#\"XCombined\" will store all training instances and all testing instances appended at the end of training instances\n",
        "XCombined=X_train.append(X_test)\n",
        "\n",
        "#\"CombinedTrueClusters\" will store all predicted clusters of training instances and all predicted clusters of testing append at end of training instances\n",
        "trainClusters=clustersTrain.tolist()\n",
        "testClusters=clustersTest.tolist()\n",
        "trainClusters.extend(testClusters)\n",
        "CombinedTrueClusters=trainClusters\n",
        "\n",
        "#Adding predicted cluster column to the Xcombined datframe\n",
        "XCombined['Cluster Predicted']=CombinedTrueClusters\n",
        "\n",
        "#Filter rows of original data cluster wise\n",
        "filtered_label0 = XCombined.loc[XCombined['Cluster Predicted'] == 0]\n",
        "filtered_label1 = XCombined.loc[XCombined['Cluster Predicted'] == 1]\n",
        "filtered_label2 = XCombined.loc[XCombined['Cluster Predicted'] == 2]\n",
        "filtered_label3 = XCombined.loc[XCombined['Cluster Predicted'] == 3]\n",
        "filtered_label4 = XCombined.loc[XCombined['Cluster Predicted'] == 4]\n",
        "filtered_label5 = XCombined.loc[XCombined['Cluster Predicted'] == 5]\n",
        "filtered_label6 = XCombined.loc[XCombined['Cluster Predicted'] == 6]\n",
        "\n",
        "#Plotting the instances cluster wise\n",
        "plt.scatter(filtered_label0.loc[:,0] , filtered_label0.loc[:,1] , color = 'yellow')\n",
        "plt.scatter(filtered_label1.loc[:,0] , filtered_label1.loc[:,1] , color = 'red')\n",
        "plt.scatter(filtered_label2.loc[:,0] , filtered_label2.loc[:,1] , color = 'cyan')\n",
        "plt.scatter(filtered_label3.loc[:,0] , filtered_label3.loc[:,1] , color = 'magenta')\n",
        "plt.scatter(filtered_label4.loc[:,0] , filtered_label4.loc[:,1] , color = 'bisque')\n",
        "plt.scatter(filtered_label5.loc[:,0] , filtered_label5.loc[:,1] , color = 'orange')\n",
        "plt.scatter(filtered_label6.loc[:,0] , filtered_label6.loc[:,1] , color = 'pink')\n",
        "plt.scatter(centroids.loc[:,0] , centroids.loc[:,1] , color = 'black',s=100)\n",
        "plt.xlabel(\"First Feature\")\n",
        "plt.ylabel(\"Second Feature\")\n",
        "plt.title(\"Clusters Visualization\")\n",
        "print(\"Note: Cluster Centroids are represented by Black Markers\")\n",
        "plt.show()"
      ],
      "execution_count": 214,
      "outputs": [
        {
          "output_type": "stream",
          "name": "stdout",
          "text": [
            "Note: Cluster Centroids are represented by Black Markers\n"
          ]
        },
        {
          "output_type": "display_data",
          "data": {
            "image/png": "[encoded data removed]",
            "text/plain": [
              "<Figure size 432x288 with 1 Axes>"
            ]
          },
          "metadata": {
            "needs_background": "light"
          }
        }
      ]
    },
    {
      "cell_type": "markdown",
      "metadata": {
        "id": "AUqp2hNBIVMd"
      },
      "source": [
        " **Implementing BIRCH(Balanced Iterative Reducing and Clustering using Hierarchies) algorithm**"
      ]
    },
    {
      "cell_type": "code",
      "metadata": {
        "id": "H_fxqS1VIeke"
      },
      "source": [
        "# Import required libraries and modules\n",
        "import matplotlib.pyplot as plt\n",
        "from sklearn.cluster import Birch\n",
        "\n",
        "# Creating the BIRCH clustering model\n",
        "model = Birch(branching_factor = 30, n_clusters = 7, threshold = 2)\n",
        "\n",
        "# Fit the data (Training)\n",
        "model.fit(X_train)\n",
        "\n",
        "# Predict the same data\n",
        "\n",
        "clustersTrain = model.predict(X_train)\n",
        "clustersTest = model.predict(X_test)"
      ],
      "execution_count": 216,
      "outputs": []
    },
    {
      "cell_type": "code",
      "metadata": {
        "id": "FLF5Zy_GMBRi"
      },
      "source": [
        "#Evaluation Majoirty labels for each cluster predicted\n",
        "maojorityLabels=findMajorityLabels(clustersTrain,y_train)"
      ],
      "execution_count": 217,
      "outputs": []
    },
    {
      "cell_type": "code",
      "metadata": {
        "id": "9MtbtNTYNN22"
      },
      "source": [
        "#creating dataframe for the storing cluster with its majority true label\n",
        "majorityLabelDataframe=pd.DataFrame(columns=['Cluster Number','Majority Label'])\n",
        "for clusterNumber,majorityLabel in majorityLabels.items():\n",
        "  majorityLabelDataframe.loc[len(majorityLabelDataframe.index)] = [clusterNumber,majorityLabel] "
      ],
      "execution_count": 218,
      "outputs": []
    },
    {
      "cell_type": "code",
      "metadata": {
        "colab": {
          "base_uri": "https://localhost:8080/",
          "height": 269
        },
        "id": "fu_5Yr20NN28",
        "outputId": "4000029a-bb19-4c6f-efe1-ac187ae8a5c9"
      },
      "source": [
        "#displaying majorityLabelDataframe\n",
        "majorityLabelDataframe"
      ],
      "execution_count": 219,
      "outputs": [
        {
          "output_type": "execute_result",
          "data": {
            "text/html": [
              "<div>\n",
              "<style scoped>\n",
              "    .dataframe tbody tr th:only-of-type {\n",
              "        vertical-align: middle;\n",
              "    }\n",
              "\n",
              "    .dataframe tbody tr th {\n",
              "        vertical-align: top;\n",
              "    }\n",
              "\n",
              "    .dataframe thead th {\n",
              "        text-align: right;\n",
              "    }\n",
              "</style>\n",
              "<table border=\"1\" class=\"dataframe\">\n",
              "  <thead>\n",
              "    <tr style=\"text-align: right;\">\n",
              "      <th></th>\n",
              "      <th>Cluster Number</th>\n",
              "      <th>Majority Label</th>\n",
              "    </tr>\n",
              "  </thead>\n",
              "  <tbody>\n",
              "    <tr>\n",
              "      <th>0</th>\n",
              "      <td>0</td>\n",
              "      <td>2</td>\n",
              "    </tr>\n",
              "    <tr>\n",
              "      <th>1</th>\n",
              "      <td>1</td>\n",
              "      <td>2</td>\n",
              "    </tr>\n",
              "    <tr>\n",
              "      <th>2</th>\n",
              "      <td>2</td>\n",
              "      <td>2</td>\n",
              "    </tr>\n",
              "    <tr>\n",
              "      <th>3</th>\n",
              "      <td>3</td>\n",
              "      <td>2</td>\n",
              "    </tr>\n",
              "    <tr>\n",
              "      <th>4</th>\n",
              "      <td>4</td>\n",
              "      <td>1</td>\n",
              "    </tr>\n",
              "    <tr>\n",
              "      <th>5</th>\n",
              "      <td>5</td>\n",
              "      <td>2</td>\n",
              "    </tr>\n",
              "    <tr>\n",
              "      <th>6</th>\n",
              "      <td>6</td>\n",
              "      <td>2</td>\n",
              "    </tr>\n",
              "  </tbody>\n",
              "</table>\n",
              "</div>"
            ],
            "text/plain": [
              "  Cluster Number Majority Label\n",
              "0              0              2\n",
              "1              1              2\n",
              "2              2              2\n",
              "3              3              2\n",
              "4              4              1\n",
              "5              5              2\n",
              "6              6              2"
            ]
          },
          "metadata": {},
          "execution_count": 219
        }
      ]
    },
    {
      "cell_type": "code",
      "metadata": {
        "id": "FfQ2QbYGNUDh"
      },
      "source": [
        "#Finding corresponding true label for the training instances using predicted cluster \n",
        "predictedTrueLabelTrain=[]\n",
        "for eachCluster in clustersTrain:\n",
        "  predictedTrueLabelTrain.append(majorityLabels[eachCluster])"
      ],
      "execution_count": 220,
      "outputs": []
    },
    {
      "cell_type": "code",
      "metadata": {
        "colab": {
          "base_uri": "https://localhost:8080/"
        },
        "id": "I8CwD70zNUDi",
        "outputId": "d6948604-2404-45f0-a601-ae8335a1bc7b"
      },
      "source": [
        "#Evaluating and displaying F1 score on the training instances\n",
        "f1ScoreTrain=f1_score(predictedTrueLabelTrain, y_train,average='micro')\n",
        "print(\"F1 score on Training instances: \",f1ScoreTrain,\"=\",\"{0:.2f}\".format(f1ScoreTrain*100),\"%\")  "
      ],
      "execution_count": 221,
      "outputs": [
        {
          "output_type": "stream",
          "name": "stdout",
          "text": [
            "F1 score on Training instances:  0.37765106042416974 = 37.77 %\n"
          ]
        }
      ]
    },
    {
      "cell_type": "code",
      "metadata": {
        "id": "H-NSlUI_NUDi"
      },
      "source": [
        "#Finding corresponding true label for the testing instances using predicted cluster\n",
        "predictedTrueLabelTest=[]\n",
        "for eachCluster in clustersTest:\n",
        "  predictedTrueLabelTest.append(majorityLabels[eachCluster])"
      ],
      "execution_count": 222,
      "outputs": []
    },
    {
      "cell_type": "code",
      "metadata": {
        "colab": {
          "base_uri": "https://localhost:8080/"
        },
        "id": "IQkQLSGcNUDi",
        "outputId": "5f595126-538f-4baa-e93e-36cb902e5ddc"
      },
      "source": [
        "#Evaluating and displaying F1 score on the testing instances\n",
        "f1ScoreTest=f1_score(predictedTrueLabelTest, y_test,average='weighted')\n",
        "print(\"F1 score on Testing instances: \",f1ScoreTest,\"=\",\"{0:.2f}\".format(f1ScoreTest*100),\"%\") "
      ],
      "execution_count": 223,
      "outputs": [
        {
          "output_type": "stream",
          "name": "stdout",
          "text": [
            "F1 score on Testing instances:  0.473431376687084 = 47.34 %\n"
          ]
        }
      ]
    },
    {
      "cell_type": "code",
      "metadata": {
        "colab": {
          "base_uri": "https://localhost:8080/",
          "height": 335
        },
        "id": "8EFjO0UkM-EN",
        "outputId": "0a53c330-2e20-4ec4-99e3-fcf3ed4cfa2c"
      },
      "source": [
        "#Comparison between true label counts in dataset and in individual cluster for each true label\n",
        "clustersTrainList=clustersTrain.tolist()\n",
        "clustersTestList=clustersTest.tolist()\n",
        "\n",
        "clustersTrainList.extend(clustersTestList)\n",
        "clustersCombined=clustersTrainList\n",
        "\n",
        "trueLabelsTrain=y_train.to_list()\n",
        "trueLabelsTest=y_test.to_list()\n",
        "trueLabelsTrain.extend(trueLabelsTest)\n",
        "trueLabelsCombined=trueLabelsTrain\n",
        "l3=ClusterTrueLabelCount(clustersCombined,trueLabelsCombined)\n",
        "\n",
        "df4=pd.DataFrame(l3)\n",
        "df4=df4.T\n",
        "df4 = df4.rename(columns={0:'Cluster 0 Count',1:'Cluster 1 Count',2:'Cluster 2 Count',3:'Cluster 3 Count',4:'Cluster 4 Count',5:'Cluster 5 Count',6:'Cluster 6 Count'})\n",
        "df4['True Label']=[1,2,3,4,5,6,7]\n",
        "df4.set_index('True Label',drop=True,inplace=True)\n",
        "maxValuesOccured=df4.max(axis=1)\n",
        "clusterNumberMaxValue=list(df4.idxmax(axis=1))\n",
        "for q in range(len(clusterNumberMaxValue)):\n",
        "  clusterNumberMaxValue[q]=clusterNumberMaxValue[q].replace('Count','')\n",
        "df4['True Label Count']=trueLabelsCount\n",
        "df4['Maximum Label Count Occured Together']=maxValuesOccured\n",
        "df4['Cluster Number']=clusterNumberMaxValue\n",
        "df4"
      ],
      "execution_count": 225,
      "outputs": [
        {
          "output_type": "execute_result",
          "data": {
            "text/html": [
              "<div>\n",
              "<style scoped>\n",
              "    .dataframe tbody tr th:only-of-type {\n",
              "        vertical-align: middle;\n",
              "    }\n",
              "\n",
              "    .dataframe tbody tr th {\n",
              "        vertical-align: top;\n",
              "    }\n",
              "\n",
              "    .dataframe thead th {\n",
              "        text-align: right;\n",
              "    }\n",
              "</style>\n",
              "<table border=\"1\" class=\"dataframe\">\n",
              "  <thead>\n",
              "    <tr style=\"text-align: right;\">\n",
              "      <th></th>\n",
              "      <th>Cluster 0 Count</th>\n",
              "      <th>Cluster 1 Count</th>\n",
              "      <th>Cluster 2 Count</th>\n",
              "      <th>Cluster 3 Count</th>\n",
              "      <th>Cluster 4 Count</th>\n",
              "      <th>Cluster 5 Count</th>\n",
              "      <th>Cluster 6 Count</th>\n",
              "      <th>True Label Count</th>\n",
              "      <th>Maximum Label Count Occured Together</th>\n",
              "      <th>Cluster Number</th>\n",
              "    </tr>\n",
              "    <tr>\n",
              "      <th>True Label</th>\n",
              "      <th></th>\n",
              "      <th></th>\n",
              "      <th></th>\n",
              "      <th></th>\n",
              "      <th></th>\n",
              "      <th></th>\n",
              "      <th></th>\n",
              "      <th></th>\n",
              "      <th></th>\n",
              "      <th></th>\n",
              "    </tr>\n",
              "  </thead>\n",
              "  <tbody>\n",
              "    <tr>\n",
              "      <th>1</th>\n",
              "      <td>1099</td>\n",
              "      <td>348</td>\n",
              "      <td>320</td>\n",
              "      <td>1010</td>\n",
              "      <td>793</td>\n",
              "      <td>356</td>\n",
              "      <td>186</td>\n",
              "      <td>4112</td>\n",
              "      <td>1099</td>\n",
              "      <td>Cluster 0</td>\n",
              "    </tr>\n",
              "    <tr>\n",
              "      <th>2</th>\n",
              "      <td>1376</td>\n",
              "      <td>617</td>\n",
              "      <td>522</td>\n",
              "      <td>743</td>\n",
              "      <td>789</td>\n",
              "      <td>409</td>\n",
              "      <td>255</td>\n",
              "      <td>4711</td>\n",
              "      <td>1376</td>\n",
              "      <td>Cluster 0</td>\n",
              "    </tr>\n",
              "    <tr>\n",
              "      <th>3</th>\n",
              "      <td>106</td>\n",
              "      <td>267</td>\n",
              "      <td>46</td>\n",
              "      <td>266</td>\n",
              "      <td>170</td>\n",
              "      <td>15</td>\n",
              "      <td>186</td>\n",
              "      <td>1056</td>\n",
              "      <td>267</td>\n",
              "      <td>Cluster 1</td>\n",
              "    </tr>\n",
              "    <tr>\n",
              "      <th>4</th>\n",
              "      <td>0</td>\n",
              "      <td>66</td>\n",
              "      <td>0</td>\n",
              "      <td>56</td>\n",
              "      <td>17</td>\n",
              "      <td>0</td>\n",
              "      <td>36</td>\n",
              "      <td>175</td>\n",
              "      <td>66</td>\n",
              "      <td>Cluster 1</td>\n",
              "    </tr>\n",
              "    <tr>\n",
              "      <th>5</th>\n",
              "      <td>154</td>\n",
              "      <td>124</td>\n",
              "      <td>112</td>\n",
              "      <td>36</td>\n",
              "      <td>123</td>\n",
              "      <td>23</td>\n",
              "      <td>25</td>\n",
              "      <td>597</td>\n",
              "      <td>154</td>\n",
              "      <td>Cluster 0</td>\n",
              "    </tr>\n",
              "    <tr>\n",
              "      <th>6</th>\n",
              "      <td>125</td>\n",
              "      <td>181</td>\n",
              "      <td>18</td>\n",
              "      <td>159</td>\n",
              "      <td>108</td>\n",
              "      <td>8</td>\n",
              "      <td>87</td>\n",
              "      <td>686</td>\n",
              "      <td>181</td>\n",
              "      <td>Cluster 1</td>\n",
              "    </tr>\n",
              "    <tr>\n",
              "      <th>7</th>\n",
              "      <td>161</td>\n",
              "      <td>190</td>\n",
              "      <td>143</td>\n",
              "      <td>410</td>\n",
              "      <td>173</td>\n",
              "      <td>59</td>\n",
              "      <td>22</td>\n",
              "      <td>1158</td>\n",
              "      <td>410</td>\n",
              "      <td>Cluster 3</td>\n",
              "    </tr>\n",
              "  </tbody>\n",
              "</table>\n",
              "</div>"
            ],
            "text/plain": [
              "            Cluster 0 Count  ...  Cluster Number\n",
              "True Label                   ...                \n",
              "1                      1099  ...      Cluster 0 \n",
              "2                      1376  ...      Cluster 0 \n",
              "3                       106  ...      Cluster 1 \n",
              "4                         0  ...      Cluster 1 \n",
              "5                       154  ...      Cluster 0 \n",
              "6                       125  ...      Cluster 1 \n",
              "7                       161  ...      Cluster 3 \n",
              "\n",
              "[7 rows x 10 columns]"
            ]
          },
          "metadata": {},
          "execution_count": 225
        }
      ]
    },
    {
      "cell_type": "code",
      "metadata": {
        "colab": {
          "base_uri": "https://localhost:8080/",
          "height": 312
        },
        "id": "XGG-qjaxNn1f",
        "outputId": "4409e031-d5ae-4f9e-8333-6ac030ba7fdb"
      },
      "source": [
        "#Visualization of clusters\n",
        "\n",
        "#\"XCombined\" will store all training instances and all testing instances appended at the end of training instances\n",
        "XCombined=X_train.append(X_test)\n",
        "\n",
        "#\"CombinedTrueClusters\" will store all predicted clusters of training instances and all predicted clusters of testing append at end of training instances\n",
        "trainClusters=clustersTrain.tolist()\n",
        "testClusters=clustersTest.tolist()\n",
        "trainClusters.extend(testClusters)\n",
        "CombinedTrueClusters=trainClusters\n",
        "\n",
        "#Adding predicted cluster column to the Xcombined datframe\n",
        "XCombined['Cluster Predicted']=CombinedTrueClusters\n",
        "\n",
        "#Filter rows of original data cluster wise\n",
        "filtered_label0 = XCombined.loc[XCombined['Cluster Predicted'] == 0]\n",
        "filtered_label1 = XCombined.loc[XCombined['Cluster Predicted'] == 1]\n",
        "filtered_label2 = XCombined.loc[XCombined['Cluster Predicted'] == 2]\n",
        "filtered_label3 = XCombined.loc[XCombined['Cluster Predicted'] == 3]\n",
        "filtered_label4 = XCombined.loc[XCombined['Cluster Predicted'] == 4]\n",
        "filtered_label5 = XCombined.loc[XCombined['Cluster Predicted'] == 5]\n",
        "filtered_label6 = XCombined.loc[XCombined['Cluster Predicted'] == 6]\n",
        "\n",
        "#Evaluating centroids of each cluster\n",
        "centroidList=[]\n",
        "l0=filtered_label0.mean(axis=0)\n",
        "centroidList.append([l0[0],l0[1]])\n",
        "\n",
        "l1=filtered_label1.mean(axis=0)\n",
        "centroidList.append(list([l1[0],l1[1]]))\n",
        "\n",
        "l2=filtered_label2.mean(axis=0)\n",
        "centroidList.append(list([l2[0],l2[1]]))\n",
        "\n",
        "l3=filtered_label3.mean(axis=0)\n",
        "centroidList.append(list([l3[0],l3[1]]))\n",
        "\n",
        "l4=filtered_label4.mean(axis=0)\n",
        "centroidList.append(list([l4[0],l4[1]]))\n",
        "\n",
        "l5=filtered_label5.mean(axis=0)\n",
        "centroidList.append(list([l5[0],l5[1]]))\n",
        "\n",
        "l6=filtered_label6.mean(axis=0)\n",
        "centroidList.append(list([l6[0],l6[1]]))\n",
        "\n",
        "#Plotting the instances cluster wise\n",
        "plt.scatter(filtered_label0.loc[:,0] , filtered_label0.loc[:,1] , color = 'yellow')\n",
        "plt.scatter(filtered_label1.loc[:,0] , filtered_label1.loc[:,1] , color = 'red')\n",
        "plt.scatter(filtered_label2.loc[:,0] , filtered_label2.loc[:,1] , color = 'cyan')\n",
        "plt.scatter(filtered_label3.loc[:,0] , filtered_label3.loc[:,1] , color = 'magenta')\n",
        "plt.scatter(filtered_label4.loc[:,0] , filtered_label4.loc[:,1] , color = 'bisque')\n",
        "plt.scatter(filtered_label5.loc[:,0] , filtered_label5.loc[:,1] , color = 'orange')\n",
        "plt.scatter(filtered_label6.loc[:,0] , filtered_label6.loc[:,1] , color = 'pink')\n",
        "#plt.scatter(centroids.loc[:,0] , centroids.loc[:,1] , color = 'black',s=100)\n",
        "for eachCentroid in centroidList:\n",
        "  plt.scatter(eachCentroid[0] , eachCentroid[1] , color = 'black',s=100)\n",
        "\n",
        "plt.xlabel(\"First Feature\")\n",
        "plt.ylabel(\"Second Feature\")\n",
        "plt.title(\"Clusters Visualization\")\n",
        "print(\"Note: Cluster Centroids are represented by Black Markers\")\n",
        "plt.show()"
      ],
      "execution_count": 226,
      "outputs": [
        {
          "output_type": "stream",
          "name": "stdout",
          "text": [
            "Note: Cluster Centroids are represented by Black Markers\n"
          ]
        },
        {
          "output_type": "display_data",
          "data": {
            "image/png": "[encoded data removed]",
            "text/plain": [
              "<Figure size 432x288 with 1 Axes>"
            ]
          },
          "metadata": {
            "needs_background": "light"
          }
        }
      ]
    },
    {
      "cell_type": "code",
      "metadata": {
        "colab": {
          "base_uri": "https://localhost:8080/"
        },
        "id": "I0GzgQtZNTOD",
        "outputId": "8c40b093-0efc-4cad-f715-d70ba2a7f650"
      },
      "source": [
        "#Displaying cluster co-ordinates\n",
        "displayCentroids(centroidList)"
      ],
      "execution_count": null,
      "outputs": [
        {
          "output_type": "stream",
          "name": "stdout",
          "text": [
            "         X Co-ordinate  Y Co-ordinate\n",
            "Cluster                              \n",
            "0            30.771345     -41.749878\n",
            "1           -40.122036      44.287437\n",
            "2             8.121088      47.754608\n",
            "3            -6.534004      -3.103943\n",
            "4           -13.718952     -58.131229\n",
            "5            58.309010       9.175364\n",
            "6           -62.867413     -13.724172\n"
          ]
        }
      ]
    },
    {
      "cell_type": "markdown",
      "metadata": {
        "id": "OZIPEDCic19O"
      },
      "source": [
        "**Implementing Fuzzy C Means Algorithm**"
      ]
    },
    {
      "cell_type": "code",
      "metadata": {
        "id": "NMx82v0nfFpG"
      },
      "source": [
        "#Converting datasets to numpy array\n",
        "X_train=X_train.to_numpy()\n",
        "X_test=X_test.to_numpy()"
      ],
      "execution_count": 227,
      "outputs": []
    },
    {
      "cell_type": "code",
      "metadata": {
        "id": "1rwCwTGAe-Rt"
      },
      "source": [
        "#Creating and training model on training dataset\n",
        "fcm = FCM(n_clusters=7,random_state=19)\n",
        "fcm.fit(X_train)"
      ],
      "execution_count": 228,
      "outputs": []
    },
    {
      "cell_type": "code",
      "metadata": {
        "id": "E_QN9FlXeC2L"
      },
      "source": [
        "#Storing centroids position and predicted clusters on training and testing instances\n",
        "centroids = fcm.centers\n",
        "clustersTrain = fcm.predict(X_train)\n",
        "clustersTest= fcm.predict(X_test)"
      ],
      "execution_count": 229,
      "outputs": []
    },
    {
      "cell_type": "code",
      "metadata": {
        "id": "gCPWxjCbgjul"
      },
      "source": [
        "#Evaluating and storing majority label of each cluster\n",
        "majorityLabels=findMajorityLabels(clustersTrain,y_train)"
      ],
      "execution_count": 230,
      "outputs": []
    },
    {
      "cell_type": "code",
      "metadata": {
        "id": "wik6ODcZg1W7"
      },
      "source": [
        "#creating dataframe for the storing cluster with its majority true label\n",
        "majorityLabelDataframe=pd.DataFrame(columns=['Cluster Number','Majority Label'])\n",
        "for clusterNumber,majorityLabel in majorityLabels.items():\n",
        "  majorityLabelDataframe.loc[len(majorityLabelDataframe.index)] = [clusterNumber,majorityLabel] "
      ],
      "execution_count": 231,
      "outputs": []
    },
    {
      "cell_type": "code",
      "metadata": {
        "colab": {
          "base_uri": "https://localhost:8080/",
          "height": 269
        },
        "id": "oP-pi-hbg1W7",
        "outputId": "5f8ab81e-05f8-45d1-a57b-810756e56c6e"
      },
      "source": [
        "#displaying majorityLabelDataframe\n",
        "majorityLabelDataframe"
      ],
      "execution_count": 232,
      "outputs": [
        {
          "output_type": "execute_result",
          "data": {
            "text/html": [
              "<div>\n",
              "<style scoped>\n",
              "    .dataframe tbody tr th:only-of-type {\n",
              "        vertical-align: middle;\n",
              "    }\n",
              "\n",
              "    .dataframe tbody tr th {\n",
              "        vertical-align: top;\n",
              "    }\n",
              "\n",
              "    .dataframe thead th {\n",
              "        text-align: right;\n",
              "    }\n",
              "</style>\n",
              "<table border=\"1\" class=\"dataframe\">\n",
              "  <thead>\n",
              "    <tr style=\"text-align: right;\">\n",
              "      <th></th>\n",
              "      <th>Cluster Number</th>\n",
              "      <th>Majority Label</th>\n",
              "    </tr>\n",
              "  </thead>\n",
              "  <tbody>\n",
              "    <tr>\n",
              "      <th>0</th>\n",
              "      <td>0</td>\n",
              "      <td>1</td>\n",
              "    </tr>\n",
              "    <tr>\n",
              "      <th>1</th>\n",
              "      <td>1</td>\n",
              "      <td>1</td>\n",
              "    </tr>\n",
              "    <tr>\n",
              "      <th>2</th>\n",
              "      <td>2</td>\n",
              "      <td>1</td>\n",
              "    </tr>\n",
              "    <tr>\n",
              "      <th>3</th>\n",
              "      <td>3</td>\n",
              "      <td>2</td>\n",
              "    </tr>\n",
              "    <tr>\n",
              "      <th>4</th>\n",
              "      <td>4</td>\n",
              "      <td>2</td>\n",
              "    </tr>\n",
              "    <tr>\n",
              "      <th>5</th>\n",
              "      <td>5</td>\n",
              "      <td>2</td>\n",
              "    </tr>\n",
              "    <tr>\n",
              "      <th>6</th>\n",
              "      <td>6</td>\n",
              "      <td>2</td>\n",
              "    </tr>\n",
              "  </tbody>\n",
              "</table>\n",
              "</div>"
            ],
            "text/plain": [
              "  Cluster Number Majority Label\n",
              "0              0              1\n",
              "1              1              1\n",
              "2              2              1\n",
              "3              3              2\n",
              "4              4              2\n",
              "5              5              2\n",
              "6              6              2"
            ]
          },
          "metadata": {},
          "execution_count": 232
        }
      ]
    },
    {
      "cell_type": "code",
      "metadata": {
        "id": "n4F97GqSg1W7"
      },
      "source": [
        "#Finding corresponding true label for the training instances using predicted cluster \n",
        "predictedTrueLabelTrain=[]\n",
        "for eachCluster in clustersTrain:\n",
        "  predictedTrueLabelTrain.append(majorityLabels[eachCluster])"
      ],
      "execution_count": 233,
      "outputs": []
    },
    {
      "cell_type": "code",
      "metadata": {
        "colab": {
          "base_uri": "https://localhost:8080/"
        },
        "id": "OC0OKGWzg1W7",
        "outputId": "cedde4b9-51c0-495f-c6c9-90b96315d3c3"
      },
      "source": [
        "#Evaluating and displaying F1 score on the training instances\n",
        "f1ScoreTrain=f1_score(predictedTrueLabelTrain, y_train,average='weighted')\n",
        "print(\"F1 score on Training instances: \",f1ScoreTrain,\"=\",\"{0:.2f}\".format(f1ScoreTrain*100),\"%\")  "
      ],
      "execution_count": 234,
      "outputs": [
        {
          "output_type": "stream",
          "name": "stdout",
          "text": [
            "F1 score on Training instances:  0.47333974653642646 = 47.33 %\n"
          ]
        }
      ]
    },
    {
      "cell_type": "code",
      "metadata": {
        "id": "B1L9CorSg1W8"
      },
      "source": [
        "#Finding corresponding true label for the testing instances using predicted cluster\n",
        "predictedTrueLabelTest=[]\n",
        "for eachCluster in clustersTest:\n",
        "  predictedTrueLabelTest.append(majorityLabels[eachCluster])"
      ],
      "execution_count": 235,
      "outputs": []
    },
    {
      "cell_type": "code",
      "metadata": {
        "colab": {
          "base_uri": "https://localhost:8080/"
        },
        "id": "pFXli9k2g1W8",
        "outputId": "cf9d704c-d817-4194-badd-6a7a3a8fdb70"
      },
      "source": [
        "#Evaluating and displaying F1 score on the testing instances\n",
        "f1ScoreTest=f1_score(predictedTrueLabelTest, y_test,average='weighted')\n",
        "print(\"F1 score on Testing instances: \",f1ScoreTest,\"=\",\"{0:.2f}\".format(f1ScoreTest*100),\"%\") "
      ],
      "execution_count": 236,
      "outputs": [
        {
          "output_type": "stream",
          "name": "stdout",
          "text": [
            "F1 score on Testing instances:  0.47622078800264367 = 47.62 %\n"
          ]
        }
      ]
    },
    {
      "cell_type": "code",
      "metadata": {
        "id": "q6_qeNA0hv4n"
      },
      "source": [
        "#Converting dataset to dataframe for visualization\n",
        "X_train=pd.DataFrame(X_train)\n",
        "X_test=pd.DataFrame(X_test)"
      ],
      "execution_count": 237,
      "outputs": []
    },
    {
      "cell_type": "code",
      "metadata": {
        "colab": {
          "base_uri": "https://localhost:8080/",
          "height": 335
        },
        "id": "l7eHIRPHO5GX",
        "outputId": "57f76af1-b598-4517-d22b-79abde54dcc0"
      },
      "source": [
        "#Comparison between true label counts in dataset and in individual cluster for each true label\n",
        "clustersTrainList=clustersTrain.tolist()\n",
        "clustersTestList=clustersTest.tolist()\n",
        "\n",
        "clustersTrainList.extend(clustersTestList)\n",
        "clustersCombined=clustersTrainList\n",
        "\n",
        "trueLabelsTrain=y_train.to_list()\n",
        "trueLabelsTest=y_test.to_list()\n",
        "trueLabelsTrain.extend(trueLabelsTest)\n",
        "trueLabelsCombined=trueLabelsTrain\n",
        "l3=ClusterTrueLabelCount(clustersCombined,trueLabelsCombined)\n",
        "\n",
        "df4=pd.DataFrame(l3)\n",
        "df4=df4.T\n",
        "df4 = df4.rename(columns={0:'Cluster 0 Count',1:'Cluster 1 Count',2:'Cluster 2 Count',3:'Cluster 3 Count',4:'Cluster 4 Count',5:'Cluster 5 Count',6:'Cluster 6 Count'})\n",
        "df4['True Label']=[1,2,3,4,5,6,7]\n",
        "df4.set_index('True Label',drop=True,inplace=True)\n",
        "maxValuesOccured=df4.max(axis=1)\n",
        "clusterNumberMaxValue=list(df4.idxmax(axis=1))\n",
        "for q in range(len(clusterNumberMaxValue)):\n",
        "  clusterNumberMaxValue[q]=clusterNumberMaxValue[q].replace('Count','')\n",
        "df4['True Label Count']=trueLabelsCount\n",
        "df4['Maximum Label Count Occured Together']=maxValuesOccured\n",
        "df4['Cluster Number']=clusterNumberMaxValue\n",
        "df4"
      ],
      "execution_count": 238,
      "outputs": [
        {
          "output_type": "execute_result",
          "data": {
            "text/html": [
              "<div>\n",
              "<style scoped>\n",
              "    .dataframe tbody tr th:only-of-type {\n",
              "        vertical-align: middle;\n",
              "    }\n",
              "\n",
              "    .dataframe tbody tr th {\n",
              "        vertical-align: top;\n",
              "    }\n",
              "\n",
              "    .dataframe thead th {\n",
              "        text-align: right;\n",
              "    }\n",
              "</style>\n",
              "<table border=\"1\" class=\"dataframe\">\n",
              "  <thead>\n",
              "    <tr style=\"text-align: right;\">\n",
              "      <th></th>\n",
              "      <th>Cluster 0 Count</th>\n",
              "      <th>Cluster 1 Count</th>\n",
              "      <th>Cluster 2 Count</th>\n",
              "      <th>Cluster 3 Count</th>\n",
              "      <th>Cluster 4 Count</th>\n",
              "      <th>Cluster 5 Count</th>\n",
              "      <th>Cluster 6 Count</th>\n",
              "      <th>True Label Count</th>\n",
              "      <th>Maximum Label Count Occured Together</th>\n",
              "      <th>Cluster Number</th>\n",
              "    </tr>\n",
              "    <tr>\n",
              "      <th>True Label</th>\n",
              "      <th></th>\n",
              "      <th></th>\n",
              "      <th></th>\n",
              "      <th></th>\n",
              "      <th></th>\n",
              "      <th></th>\n",
              "      <th></th>\n",
              "      <th></th>\n",
              "      <th></th>\n",
              "      <th></th>\n",
              "    </tr>\n",
              "  </thead>\n",
              "  <tbody>\n",
              "    <tr>\n",
              "      <th>1</th>\n",
              "      <td>713</td>\n",
              "      <td>891</td>\n",
              "      <td>448</td>\n",
              "      <td>438</td>\n",
              "      <td>383</td>\n",
              "      <td>598</td>\n",
              "      <td>641</td>\n",
              "      <td>4112</td>\n",
              "      <td>891</td>\n",
              "      <td>Cluster 1</td>\n",
              "    </tr>\n",
              "    <tr>\n",
              "      <th>2</th>\n",
              "      <td>728</td>\n",
              "      <td>681</td>\n",
              "      <td>315</td>\n",
              "      <td>744</td>\n",
              "      <td>715</td>\n",
              "      <td>638</td>\n",
              "      <td>890</td>\n",
              "      <td>4711</td>\n",
              "      <td>890</td>\n",
              "      <td>Cluster 6</td>\n",
              "    </tr>\n",
              "    <tr>\n",
              "      <th>3</th>\n",
              "      <td>45</td>\n",
              "      <td>0</td>\n",
              "      <td>326</td>\n",
              "      <td>323</td>\n",
              "      <td>114</td>\n",
              "      <td>122</td>\n",
              "      <td>126</td>\n",
              "      <td>1056</td>\n",
              "      <td>326</td>\n",
              "      <td>Cluster 2</td>\n",
              "    </tr>\n",
              "    <tr>\n",
              "      <th>4</th>\n",
              "      <td>0</td>\n",
              "      <td>0</td>\n",
              "      <td>58</td>\n",
              "      <td>73</td>\n",
              "      <td>17</td>\n",
              "      <td>0</td>\n",
              "      <td>27</td>\n",
              "      <td>175</td>\n",
              "      <td>73</td>\n",
              "      <td>Cluster 3</td>\n",
              "    </tr>\n",
              "    <tr>\n",
              "      <th>5</th>\n",
              "      <td>71</td>\n",
              "      <td>50</td>\n",
              "      <td>13</td>\n",
              "      <td>157</td>\n",
              "      <td>85</td>\n",
              "      <td>116</td>\n",
              "      <td>105</td>\n",
              "      <td>597</td>\n",
              "      <td>157</td>\n",
              "      <td>Cluster 3</td>\n",
              "    </tr>\n",
              "    <tr>\n",
              "      <th>6</th>\n",
              "      <td>47</td>\n",
              "      <td>0</td>\n",
              "      <td>210</td>\n",
              "      <td>178</td>\n",
              "      <td>106</td>\n",
              "      <td>74</td>\n",
              "      <td>71</td>\n",
              "      <td>686</td>\n",
              "      <td>210</td>\n",
              "      <td>Cluster 2</td>\n",
              "    </tr>\n",
              "    <tr>\n",
              "      <th>7</th>\n",
              "      <td>132</td>\n",
              "      <td>272</td>\n",
              "      <td>266</td>\n",
              "      <td>207</td>\n",
              "      <td>34</td>\n",
              "      <td>173</td>\n",
              "      <td>74</td>\n",
              "      <td>1158</td>\n",
              "      <td>272</td>\n",
              "      <td>Cluster 1</td>\n",
              "    </tr>\n",
              "  </tbody>\n",
              "</table>\n",
              "</div>"
            ],
            "text/plain": [
              "            Cluster 0 Count  ...  Cluster Number\n",
              "True Label                   ...                \n",
              "1                       713  ...      Cluster 1 \n",
              "2                       728  ...      Cluster 6 \n",
              "3                        45  ...      Cluster 2 \n",
              "4                         0  ...      Cluster 3 \n",
              "5                        71  ...      Cluster 3 \n",
              "6                        47  ...      Cluster 2 \n",
              "7                       132  ...      Cluster 1 \n",
              "\n",
              "[7 rows x 10 columns]"
            ]
          },
          "metadata": {},
          "execution_count": 238
        }
      ]
    },
    {
      "cell_type": "code",
      "metadata": {
        "colab": {
          "base_uri": "https://localhost:8080/"
        },
        "id": "oCFvIs6kPHYC",
        "outputId": "049301b5-48ab-40ae-bae5-aab5f5bec3fa"
      },
      "source": [
        "#Displaying cluster co-ordinates\n",
        "centroidDataFrame=pd.DataFrame(centroids)\n",
        "centroidDataFrame['Cluster']=[0,1,2,3,4,5,6]\n",
        "centroidDataFrame = centroidDataFrame.rename(columns={0:'X Co-ordinate',1:'Y Co-ordinate'})\n",
        "centroidDataFrame.set_index('Cluster',drop=True,inplace=True)\n",
        "print(centroidDataFrame)"
      ],
      "execution_count": 243,
      "outputs": [
        {
          "output_type": "stream",
          "name": "stdout",
          "text": [
            "         X Co-ordinate  Y Co-ordinate\n",
            "Cluster                              \n",
            "0            -8.510196       7.614155\n",
            "1            -1.320146     -25.274145\n",
            "2            15.977232     -59.526233\n",
            "3            57.039807      -0.541202\n",
            "4           -42.261663      37.436065\n",
            "5           -50.678274     -20.574713\n",
            "6            14.390697      49.295683\n"
          ]
        }
      ]
    },
    {
      "cell_type": "code",
      "metadata": {
        "colab": {
          "base_uri": "https://localhost:8080/",
          "height": 312
        },
        "id": "45DQkBiJg1W8",
        "outputId": "497fdf9a-4993-4b60-dfaa-a8e2d879d363"
      },
      "source": [
        "#Visualization of clusters\n",
        "\n",
        "#\"XCombined\" will store all training instances and all testing instances appended at the end of training instances\n",
        "XCombined=X_train.append(X_test)\n",
        "\n",
        "#\"CombinedTrueClusters\" will store all predicted clusters of training instances and all predicted clusters of testing append at end of training instances\n",
        "trainClusters=clustersTrain.tolist()\n",
        "testClusters=clustersTest.tolist()\n",
        "trainClusters.extend(testClusters)\n",
        "CombinedTrueClusters=trainClusters\n",
        "\n",
        "#Adding predicted cluster column to the Xcombined datframe\n",
        "XCombined['Cluster Predicted']=CombinedTrueClusters\n",
        "\n",
        "#Filter rows of original data cluster wise\n",
        "filtered_label0 = XCombined.loc[XCombined['Cluster Predicted'] == 0]\n",
        "filtered_label1 = XCombined.loc[XCombined['Cluster Predicted'] == 1]\n",
        "filtered_label2 = XCombined.loc[XCombined['Cluster Predicted'] == 2]\n",
        "filtered_label3 = XCombined.loc[XCombined['Cluster Predicted'] == 3]\n",
        "filtered_label4 = XCombined.loc[XCombined['Cluster Predicted'] == 4]\n",
        "filtered_label5 = XCombined.loc[XCombined['Cluster Predicted'] == 5]\n",
        "filtered_label6 = XCombined.loc[XCombined['Cluster Predicted'] == 6]\n",
        "\n",
        "\n",
        "#Plotting the instances cluster wise\n",
        "plt.scatter(filtered_label0.loc[:,0] , filtered_label0.loc[:,1] , color = 'yellow')\n",
        "plt.scatter(filtered_label1.loc[:,0] , filtered_label1.loc[:,1] , color = 'springgreen')\n",
        "plt.scatter(filtered_label2.loc[:,0] , filtered_label2.loc[:,1] , color = 'cyan')\n",
        "plt.scatter(filtered_label3.loc[:,0] , filtered_label3.loc[:,1] , color = 'magenta')\n",
        "plt.scatter(filtered_label4.loc[:,0] , filtered_label4.loc[:,1] , color = 'bisque')\n",
        "plt.scatter(filtered_label5.loc[:,0] , filtered_label5.loc[:,1] , color = 'orange')\n",
        "plt.scatter(filtered_label6.loc[:,0] , filtered_label6.loc[:,1] , color = 'pink')\n",
        "#plt.scatter(centroids.loc[:,0] , centroids.loc[:,1] , color = 'black',s=100)\n",
        "\n",
        "centroids=list(centroids)\n",
        "for eachCentroid in centroids:\n",
        "  plt.scatter(eachCentroid[0] , eachCentroid[1], color = 'black',s=100)\n",
        "\n",
        "plt.xlabel(\"First Feature\")\n",
        "plt.ylabel(\"Second Feature\")\n",
        "plt.title(\"Clusters Visualization\")\n",
        "print(\"Note: Cluster Centroids are represented by Black Markers\")\n",
        "plt.show()"
      ],
      "execution_count": 244,
      "outputs": [
        {
          "output_type": "stream",
          "name": "stdout",
          "text": [
            "Note: Cluster Centroids are represented by Black Markers\n"
          ]
        },
        {
          "output_type": "display_data",
          "data": {
            "image/png": "[encoded data removed]",
            "text/plain": [
              "<Figure size 432x288 with 1 Axes>"
            ]
          },
          "metadata": {
            "needs_background": "light"
          }
        }
      ]
    },
    {
      "cell_type": "markdown",
      "metadata": {
        "id": "NOXmVMfVqgy6"
      },
      "source": [
        "**Implementing Gaussian Mixture Clustering Algorithm**"
      ]
    },
    {
      "cell_type": "code",
      "metadata": {
        "id": "ecS8rYjGoxkR"
      },
      "source": [
        "#Creating and training model on training dataset\n",
        "gmm = GaussianMixture(n_components = 7,random_state=5)\n",
        "gmm.fit(X_train)\n",
        "\n",
        "#Assign a label to each sample\n",
        "clustersTrain = gmm.predict(X_train)\n",
        "clustersTest  = gmm.predict(X_test)"
      ],
      "execution_count": 111,
      "outputs": []
    },
    {
      "cell_type": "code",
      "metadata": {
        "id": "rztvl3vmscT6"
      },
      "source": [
        "#Evaluating and storing majority label of each cluster\n",
        "majorityLabels=findMajorityLabels(clustersTrain,y_train)"
      ],
      "execution_count": 112,
      "outputs": []
    },
    {
      "cell_type": "code",
      "metadata": {
        "id": "fl_8fRcuscT6"
      },
      "source": [
        "#creating dataframe for the storing cluster with its majority true label\n",
        "majorityLabelDataframe=pd.DataFrame(columns=['Cluster Number','Majority Label'])\n",
        "for clusterNumber,majorityLabel in majorityLabels.items():\n",
        "  majorityLabelDataframe.loc[len(majorityLabelDataframe.index)] = [clusterNumber,majorityLabel] "
      ],
      "execution_count": 113,
      "outputs": []
    },
    {
      "cell_type": "code",
      "metadata": {
        "colab": {
          "base_uri": "https://localhost:8080/",
          "height": 269
        },
        "id": "bC8VkRpLscT6",
        "outputId": "289076e2-a66c-4e78-be2d-f075f4a29a6b"
      },
      "source": [
        "#displaying majorityLabelDataframe\n",
        "majorityLabelDataframe"
      ],
      "execution_count": 114,
      "outputs": [
        {
          "output_type": "execute_result",
          "data": {
            "text/html": [
              "<div>\n",
              "<style scoped>\n",
              "    .dataframe tbody tr th:only-of-type {\n",
              "        vertical-align: middle;\n",
              "    }\n",
              "\n",
              "    .dataframe tbody tr th {\n",
              "        vertical-align: top;\n",
              "    }\n",
              "\n",
              "    .dataframe thead th {\n",
              "        text-align: right;\n",
              "    }\n",
              "</style>\n",
              "<table border=\"1\" class=\"dataframe\">\n",
              "  <thead>\n",
              "    <tr style=\"text-align: right;\">\n",
              "      <th></th>\n",
              "      <th>Cluster Number</th>\n",
              "      <th>Majority Label</th>\n",
              "    </tr>\n",
              "  </thead>\n",
              "  <tbody>\n",
              "    <tr>\n",
              "      <th>0</th>\n",
              "      <td>0</td>\n",
              "      <td>2</td>\n",
              "    </tr>\n",
              "    <tr>\n",
              "      <th>1</th>\n",
              "      <td>1</td>\n",
              "      <td>2</td>\n",
              "    </tr>\n",
              "    <tr>\n",
              "      <th>2</th>\n",
              "      <td>2</td>\n",
              "      <td>2</td>\n",
              "    </tr>\n",
              "    <tr>\n",
              "      <th>3</th>\n",
              "      <td>3</td>\n",
              "      <td>2</td>\n",
              "    </tr>\n",
              "    <tr>\n",
              "      <th>4</th>\n",
              "      <td>4</td>\n",
              "      <td>1</td>\n",
              "    </tr>\n",
              "    <tr>\n",
              "      <th>5</th>\n",
              "      <td>5</td>\n",
              "      <td>2</td>\n",
              "    </tr>\n",
              "    <tr>\n",
              "      <th>6</th>\n",
              "      <td>6</td>\n",
              "      <td>2</td>\n",
              "    </tr>\n",
              "  </tbody>\n",
              "</table>\n",
              "</div>"
            ],
            "text/plain": [
              "  Cluster Number Majority Label\n",
              "0              0              2\n",
              "1              1              2\n",
              "2              2              2\n",
              "3              3              2\n",
              "4              4              1\n",
              "5              5              2\n",
              "6              6              2"
            ]
          },
          "metadata": {},
          "execution_count": 114
        }
      ]
    },
    {
      "cell_type": "code",
      "metadata": {
        "id": "l23jd8FsscT6"
      },
      "source": [
        "#Finding corresponding true label for the training instances using predicted cluster \n",
        "predictedTrueLabelTrain=[]\n",
        "for eachCluster in clustersTrain:\n",
        "  predictedTrueLabelTrain.append(majorityLabels[eachCluster])"
      ],
      "execution_count": 115,
      "outputs": []
    },
    {
      "cell_type": "code",
      "metadata": {
        "colab": {
          "base_uri": "https://localhost:8080/"
        },
        "id": "f2ytek6NscT7",
        "outputId": "50d0e4c8-97a3-4a88-bcb3-7701ec0d7f83"
      },
      "source": [
        "#Evaluating and displaying F1 score on the training instances\n",
        "f1ScoreTrain=f1_score(predictedTrueLabelTrain, y_train,average='weighted')\n",
        "print(\"F1 score on Training instances: \",f1ScoreTrain,\"=\",\"{0:.2f}\".format(f1ScoreTrain*100),\"%\")  "
      ],
      "execution_count": 116,
      "outputs": [
        {
          "output_type": "stream",
          "name": "stdout",
          "text": [
            "F1 score on Training instances:  0.4916895409171447 = 49.17 %\n"
          ]
        }
      ]
    },
    {
      "cell_type": "code",
      "metadata": {
        "id": "IQcjcLfescT7"
      },
      "source": [
        "#Finding corresponding true label for the testing instances using predicted cluster\n",
        "predictedTrueLabelTest=[]\n",
        "for eachCluster in clustersTest:\n",
        "  predictedTrueLabelTest.append(majorityLabels[eachCluster])"
      ],
      "execution_count": 117,
      "outputs": []
    },
    {
      "cell_type": "code",
      "metadata": {
        "colab": {
          "base_uri": "https://localhost:8080/"
        },
        "id": "r1aBgjjRscT7",
        "outputId": "0fdf3996-bcfe-4c43-c39b-f87770c34e31"
      },
      "source": [
        "#Evaluating and displaying F1 score on the testing instances\n",
        "f1ScoreTest=f1_score(predictedTrueLabelTest, y_test,average='weighted')\n",
        "print(\"F1 score on Testing instances: \",f1ScoreTest,\"=\",\"{0:.2f}\".format(f1ScoreTest*100),\"%\") "
      ],
      "execution_count": 118,
      "outputs": [
        {
          "output_type": "stream",
          "name": "stdout",
          "text": [
            "F1 score on Testing instances:  0.49563138615112107 = 49.56 %\n"
          ]
        }
      ]
    },
    {
      "cell_type": "code",
      "metadata": {
        "id": "fd5tszeAscT7"
      },
      "source": [
        "#Converting dataset to dataframe for visualization\n",
        "X_train=pd.DataFrame(X_train)\n",
        "X_test=pd.DataFrame(X_test)"
      ],
      "execution_count": 99,
      "outputs": []
    },
    {
      "cell_type": "code",
      "metadata": {
        "colab": {
          "base_uri": "https://localhost:8080/",
          "height": 335
        },
        "id": "9tq3f-UGQJ3o",
        "outputId": "42159461-21ac-4bd0-c31d-7039c736fb25"
      },
      "source": [
        "#Comparison between true label counts in dataset and in individual cluster for each true label\n",
        "clustersTrainList=clustersTrain.tolist()\n",
        "clustersTestList=clustersTest.tolist()\n",
        "\n",
        "clustersTrainList.extend(clustersTestList)\n",
        "clustersCombined=clustersTrainList\n",
        "\n",
        "trueLabelsTrain=y_train.to_list()\n",
        "trueLabelsTest=y_test.to_list()\n",
        "trueLabelsTrain.extend(trueLabelsTest)\n",
        "trueLabelsCombined=trueLabelsTrain\n",
        "l3=ClusterTrueLabelCount(clustersCombined,trueLabelsCombined)\n",
        "\n",
        "df4=pd.DataFrame(l3)\n",
        "df4=df4.T\n",
        "df4 = df4.rename(columns={0:'Cluster 0 Count',1:'Cluster 1 Count',2:'Cluster 2 Count',3:'Cluster 3 Count',4:'Cluster 4 Count',5:'Cluster 5 Count',6:'Cluster 6 Count'})\n",
        "df4['True Label']=[1,2,3,4,5,6,7]\n",
        "df4.set_index('True Label',drop=True,inplace=True)\n",
        "maxValuesOccured=df4.max(axis=1)\n",
        "clusterNumberMaxValue=list(df4.idxmax(axis=1))\n",
        "for q in range(len(clusterNumberMaxValue)):\n",
        "  clusterNumberMaxValue[q]=clusterNumberMaxValue[q].replace('Count','')\n",
        "df4['True Label Count']=trueLabelsCount\n",
        "df4['Maximum Label Count Occured Together']=maxValuesOccured\n",
        "df4['Cluster Number']=clusterNumberMaxValue\n",
        "df4"
      ],
      "execution_count": 48,
      "outputs": [
        {
          "output_type": "execute_result",
          "data": {
            "text/html": [
              "<div>\n",
              "<style scoped>\n",
              "    .dataframe tbody tr th:only-of-type {\n",
              "        vertical-align: middle;\n",
              "    }\n",
              "\n",
              "    .dataframe tbody tr th {\n",
              "        vertical-align: top;\n",
              "    }\n",
              "\n",
              "    .dataframe thead th {\n",
              "        text-align: right;\n",
              "    }\n",
              "</style>\n",
              "<table border=\"1\" class=\"dataframe\">\n",
              "  <thead>\n",
              "    <tr style=\"text-align: right;\">\n",
              "      <th></th>\n",
              "      <th>Cluster 0 Count</th>\n",
              "      <th>Cluster 1 Count</th>\n",
              "      <th>Cluster 2 Count</th>\n",
              "      <th>Cluster 3 Count</th>\n",
              "      <th>Cluster 4 Count</th>\n",
              "      <th>Cluster 5 Count</th>\n",
              "      <th>Cluster 6 Count</th>\n",
              "      <th>True Label Count</th>\n",
              "      <th>Maximum Label Count Occured Together</th>\n",
              "      <th>Cluster Number</th>\n",
              "    </tr>\n",
              "    <tr>\n",
              "      <th>True Label</th>\n",
              "      <th></th>\n",
              "      <th></th>\n",
              "      <th></th>\n",
              "      <th></th>\n",
              "      <th></th>\n",
              "      <th></th>\n",
              "      <th></th>\n",
              "      <th></th>\n",
              "      <th></th>\n",
              "      <th></th>\n",
              "    </tr>\n",
              "  </thead>\n",
              "  <tbody>\n",
              "    <tr>\n",
              "      <th>1</th>\n",
              "      <td>456</td>\n",
              "      <td>721</td>\n",
              "      <td>643</td>\n",
              "      <td>810</td>\n",
              "      <td>472</td>\n",
              "      <td>445</td>\n",
              "      <td>565</td>\n",
              "      <td>4112</td>\n",
              "      <td>810</td>\n",
              "      <td>Cluster 3</td>\n",
              "    </tr>\n",
              "    <tr>\n",
              "      <th>2</th>\n",
              "      <td>529</td>\n",
              "      <td>745</td>\n",
              "      <td>936</td>\n",
              "      <td>1044</td>\n",
              "      <td>427</td>\n",
              "      <td>473</td>\n",
              "      <td>557</td>\n",
              "      <td>4711</td>\n",
              "      <td>1044</td>\n",
              "      <td>Cluster 3</td>\n",
              "    </tr>\n",
              "    <tr>\n",
              "      <th>3</th>\n",
              "      <td>164</td>\n",
              "      <td>215</td>\n",
              "      <td>199</td>\n",
              "      <td>17</td>\n",
              "      <td>232</td>\n",
              "      <td>56</td>\n",
              "      <td>173</td>\n",
              "      <td>1056</td>\n",
              "      <td>232</td>\n",
              "      <td>Cluster 4</td>\n",
              "    </tr>\n",
              "    <tr>\n",
              "      <th>4</th>\n",
              "      <td>23</td>\n",
              "      <td>77</td>\n",
              "      <td>0</td>\n",
              "      <td>0</td>\n",
              "      <td>44</td>\n",
              "      <td>11</td>\n",
              "      <td>20</td>\n",
              "      <td>175</td>\n",
              "      <td>77</td>\n",
              "      <td>Cluster 1</td>\n",
              "    </tr>\n",
              "    <tr>\n",
              "      <th>5</th>\n",
              "      <td>87</td>\n",
              "      <td>36</td>\n",
              "      <td>146</td>\n",
              "      <td>155</td>\n",
              "      <td>63</td>\n",
              "      <td>26</td>\n",
              "      <td>84</td>\n",
              "      <td>597</td>\n",
              "      <td>155</td>\n",
              "      <td>Cluster 3</td>\n",
              "    </tr>\n",
              "    <tr>\n",
              "      <th>6</th>\n",
              "      <td>139</td>\n",
              "      <td>102</td>\n",
              "      <td>101</td>\n",
              "      <td>31</td>\n",
              "      <td>107</td>\n",
              "      <td>54</td>\n",
              "      <td>152</td>\n",
              "      <td>686</td>\n",
              "      <td>152</td>\n",
              "      <td>Cluster 6</td>\n",
              "    </tr>\n",
              "    <tr>\n",
              "      <th>7</th>\n",
              "      <td>247</td>\n",
              "      <td>178</td>\n",
              "      <td>47</td>\n",
              "      <td>189</td>\n",
              "      <td>247</td>\n",
              "      <td>49</td>\n",
              "      <td>201</td>\n",
              "      <td>1158</td>\n",
              "      <td>247</td>\n",
              "      <td>Cluster 0</td>\n",
              "    </tr>\n",
              "  </tbody>\n",
              "</table>\n",
              "</div>"
            ],
            "text/plain": [
              "            Cluster 0 Count  ...  Cluster Number\n",
              "True Label                   ...                \n",
              "1                       456  ...      Cluster 3 \n",
              "2                       529  ...      Cluster 3 \n",
              "3                       164  ...      Cluster 4 \n",
              "4                        23  ...      Cluster 1 \n",
              "5                        87  ...      Cluster 3 \n",
              "6                       139  ...      Cluster 6 \n",
              "7                       247  ...      Cluster 0 \n",
              "\n",
              "[7 rows x 10 columns]"
            ]
          },
          "metadata": {},
          "execution_count": 48
        }
      ]
    },
    {
      "cell_type": "code",
      "metadata": {
        "colab": {
          "base_uri": "https://localhost:8080/",
          "height": 312
        },
        "id": "PQUqr1ulscT7",
        "outputId": "dbf0a6e8-bdae-45e9-8145-73116dbe7582"
      },
      "source": [
        "#Visualization of clusters\n",
        "\n",
        "#\"XCombined\" will store all training instances and all testing instances appended at the end of training instances\n",
        "XCombined=X_train.append(X_test)\n",
        "\n",
        "#\"CombinedTrueClusters\" will store all predicted clusters of training instances and all predicted clusters of testing append at end of training instances\n",
        "trainClusters=clustersTrain.tolist()\n",
        "testClusters=clustersTest.tolist()\n",
        "trainClusters.extend(testClusters)\n",
        "CombinedTrueClusters=trainClusters\n",
        "\n",
        "#Adding predicted cluster column to the Xcombined datframe\n",
        "XCombined['Cluster Predicted']=CombinedTrueClusters\n",
        "\n",
        "#Filter rows of original data cluster wise\n",
        "filtered_label0 = XCombined.loc[XCombined['Cluster Predicted'] == 0]\n",
        "filtered_label1 = XCombined.loc[XCombined['Cluster Predicted'] == 1]\n",
        "filtered_label2 = XCombined.loc[XCombined['Cluster Predicted'] == 2]\n",
        "filtered_label3 = XCombined.loc[XCombined['Cluster Predicted'] == 3]\n",
        "filtered_label4 = XCombined.loc[XCombined['Cluster Predicted'] == 4]\n",
        "filtered_label5 = XCombined.loc[XCombined['Cluster Predicted'] == 5]\n",
        "filtered_label6 = XCombined.loc[XCombined['Cluster Predicted'] == 6]\n",
        "\n",
        "#Evaluating centroids of each cluster\n",
        "centroidList=[]\n",
        "l0=filtered_label0.mean(axis=0)\n",
        "centroidList.append([l0[0],l0[1]])\n",
        "\n",
        "l1=filtered_label1.mean(axis=0)\n",
        "centroidList.append(list([l1[0],l1[1]]))\n",
        "\n",
        "l2=filtered_label2.mean(axis=0)\n",
        "centroidList.append(list([l2[0],l2[1]]))\n",
        "\n",
        "l3=filtered_label3.mean(axis=0)\n",
        "centroidList.append(list([l3[0],l3[1]]))\n",
        "\n",
        "l4=filtered_label4.mean(axis=0)\n",
        "centroidList.append(list([l4[0],l4[1]]))\n",
        "\n",
        "l5=filtered_label5.mean(axis=0)\n",
        "centroidList.append(list([l5[0],l5[1]]))\n",
        "\n",
        "l6=filtered_label6.mean(axis=0)\n",
        "centroidList.append(list([l6[0],l6[1]]))\n",
        "\n",
        "#Plotting the instances cluster wise\n",
        "plt.scatter(filtered_label0.loc[:,0] , filtered_label0.loc[:,1] , color = 'yellow')\n",
        "plt.scatter(filtered_label1.loc[:,0] , filtered_label1.loc[:,1] , color = 'springgreen')\n",
        "plt.scatter(filtered_label2.loc[:,0] , filtered_label2.loc[:,1] , color = 'cyan')\n",
        "plt.scatter(filtered_label3.loc[:,0] , filtered_label3.loc[:,1] , color = 'magenta')\n",
        "plt.scatter(filtered_label4.loc[:,0] , filtered_label4.loc[:,1] , color = 'bisque')\n",
        "plt.scatter(filtered_label5.loc[:,0] , filtered_label5.loc[:,1] , color = 'orange')\n",
        "plt.scatter(filtered_label6.loc[:,0] , filtered_label6.loc[:,1] , color = 'pink')\n",
        "#plt.scatter(centroids.loc[:,0] , centroids.loc[:,1] , color = 'black',s=100)\n",
        "\n",
        "for eachCentroid in centroidList:\n",
        "  plt.scatter(eachCentroid[0] , eachCentroid[1] , color = 'black',s=100)\n",
        "\n",
        "plt.xlabel(\"First Feature\")\n",
        "plt.ylabel(\"Second Feature\")\n",
        "plt.title(\"Clusters Visualization\")\n",
        "print(\"Note: Cluster Centroids are represented by Black Markers\")\n",
        "plt.show()"
      ],
      "execution_count": 49,
      "outputs": [
        {
          "output_type": "stream",
          "name": "stdout",
          "text": [
            "Note: Cluster Centroids are represented by Black Markers\n"
          ]
        },
        {
          "output_type": "display_data",
          "data": {
            "image/png": "[encoded data removed]",
            "text/plain": [
              "<Figure size 432x288 with 1 Axes>"
            ]
          },
          "metadata": {
            "needs_background": "light"
          }
        }
      ]
    },
    {
      "cell_type": "code",
      "metadata": {
        "colab": {
          "base_uri": "https://localhost:8080/"
        },
        "id": "zIoDRkkQsQKd",
        "outputId": "f41be879-91dd-4041-cad5-c545ba586e90"
      },
      "source": [
        "#Displaying cluster co-ordinates\n",
        "displayCentroids(centroidList)"
      ],
      "execution_count": 52,
      "outputs": [
        {
          "output_type": "stream",
          "name": "stdout",
          "text": [
            "         X Co-ordinate  Y Co-ordinate\n",
            "Cluster                              \n",
            "0             4.403891      61.450890\n",
            "1             9.102703     -56.832657\n",
            "2           -17.001537      10.042866\n",
            "3            20.690870       5.741100\n",
            "4           -45.495369     -31.436165\n",
            "5           -64.283981      23.207308\n",
            "6            62.880455      -3.049820\n"
          ]
        }
      ]
    },
    {
      "cell_type": "markdown",
      "metadata": {
        "id": "jUbNh04JxFrc"
      },
      "source": [
        "**Saving Best Model**"
      ]
    },
    {
      "cell_type": "code",
      "metadata": {
        "id": "rrQ1dvdrxNcY"
      },
      "source": [
        "#Saving the model to disk\n",
        "import pickle\n",
        "filename = 'bestModelDmgAssignment3Q2.sav'\n",
        "pickle.dump(gmm, open(filename, 'wb'))\n",
        " \n",
        "# # some time later...\n",
        " \n",
        "# # load the model from disk\n",
        "# loaded_model = pickle.load(open(filename, 'rb'))\n",
        "# result = loaded_model.predict(X_train)\n",
        "# print(len(result))\n"
      ],
      "execution_count": 119,
      "outputs": []
    },
    {
      "cell_type": "code",
      "metadata": {
        "id": "dxFMEE2q3xsp"
      },
      "source": [
        "#Splitting into training and testing data\n",
        "X_train, X_test, y_train, y_test = train_test_split(X, y, test_size=0.2,random_state=9)\n",
        "#Reseting index\n",
        "X_train.reset_index(drop=True,inplace=True)\n",
        "X_test.reset_index(drop=True,inplace=True)\n",
        "y_train.reset_index(drop=True,inplace=True)\n",
        "y_test.reset_index(drop=True,inplace=True)"
      ],
      "execution_count": 152,
      "outputs": []
    },
    {
      "cell_type": "code",
      "metadata": {
        "id": "A_hwtJfr4FxO"
      },
      "source": [
        "y_test.to_csv('TrueLabelTestCSV.csv')"
      ],
      "execution_count": 155,
      "outputs": []
    },
    {
      "cell_type": "code",
      "metadata": {
        "id": "dlEEycnh3zdA"
      },
      "source": [
        "X_test.to_csv('testCSV.csv')"
      ],
      "execution_count": 153,
      "outputs": []
    }
  ]
}